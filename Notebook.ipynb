{
  "nbformat": 4,
  "nbformat_minor": 0,
  "metadata": {
    "colab": {
      "name": "AT-Play-Store-Sentiment.ipynb",
      "provenance": [],
      "collapsed_sections": [],
      "toc_visible": true
    },
    "kernelspec": {
      "name": "python3",
      "display_name": "Python 3"
    },
    "accelerator": "GPU"
  },
  "cells": [
    {
      "cell_type": "markdown",
      "metadata": {
        "id": "OAvBgt4cL8Pb",
        "colab_type": "text"
      },
      "source": [
        "# **Sentiment Classifier: Model Training**\n",
        "In this notebook we will train the Sentiment Classification model on Google Play Reviews using BERT from HuggingFace library."
      ]
    },
    {
      "cell_type": "code",
      "metadata": {
        "id": "j49Czvc2r5BS",
        "colab_type": "code",
        "outputId": "538e43f9-44b7-4263-8b83-49662b6a19a8",
        "colab": {
          "base_uri": "https://localhost:8080/",
          "height": 34
        }
      },
      "source": [
        "import tensorflow as tf\n",
        "\n",
        "device_name = tf.test.gpu_device_name()\n",
        "if device_name == '/device:GPU:0':\n",
        "  print(f'Found GPU at: {device_name}')\n",
        "else:\n",
        "  raise SystemError('GPU not found!')"
      ],
      "execution_count": 1,
      "outputs": [
        {
          "output_type": "stream",
          "text": [
            "Found GPU at: /device:GPU:0\n"
          ],
          "name": "stdout"
        }
      ]
    },
    {
      "cell_type": "code",
      "metadata": {
        "id": "6BzepOooplSN",
        "colab_type": "code",
        "outputId": "ce650d4c-f39c-4185-abe8-fb2e91a2c996",
        "colab": {
          "base_uri": "https://localhost:8080/",
          "height": 52
        }
      },
      "source": [
        "import torch\n",
        "\n",
        "if torch.cuda.is_available():\n",
        "  device = torch.device(\"cuda\")\n",
        "  print(f'There are {torch.cuda.device_count()} GPU(s) available!')\n",
        "  print(f'Using GPU: {torch.cuda.get_device_name(0)}')\n",
        "else:\n",
        "  print(f'No GPUs available, using CPU instead!')\n",
        "  device = torch.device(\"cpu\")"
      ],
      "execution_count": 2,
      "outputs": [
        {
          "output_type": "stream",
          "text": [
            "There are 1 GPU(s) available!\n",
            "Using GPU: Tesla P100-PCIE-16GB\n"
          ],
          "name": "stdout"
        }
      ]
    },
    {
      "cell_type": "markdown",
      "metadata": {
        "id": "3-qpaC80qGfX",
        "colab_type": "text"
      },
      "source": [
        "# Installs\n"
      ]
    },
    {
      "cell_type": "code",
      "metadata": {
        "id": "uxUI0jtgqGwK",
        "colab_type": "code",
        "outputId": "3851e5e2-0f2d-4bd0-91d9-8f11f4cb7779",
        "colab": {
          "base_uri": "https://localhost:8080/",
          "height": 347
        }
      },
      "source": [
        "!pip install transformers\n",
        "\n",
        "# https://github.com/JoMingyu/google-play-scraper\n",
        "!pip install -qq google-play-scraper"
      ],
      "execution_count": 3,
      "outputs": [
        {
          "output_type": "stream",
          "text": [
            "Requirement already satisfied: transformers in /usr/local/lib/python3.6/dist-packages (2.11.0)\n",
            "Requirement already satisfied: sentencepiece in /usr/local/lib/python3.6/dist-packages (from transformers) (0.1.91)\n",
            "Requirement already satisfied: packaging in /usr/local/lib/python3.6/dist-packages (from transformers) (20.4)\n",
            "Requirement already satisfied: dataclasses; python_version < \"3.7\" in /usr/local/lib/python3.6/dist-packages (from transformers) (0.7)\n",
            "Requirement already satisfied: regex!=2019.12.17 in /usr/local/lib/python3.6/dist-packages (from transformers) (2019.12.20)\n",
            "Requirement already satisfied: numpy in /usr/local/lib/python3.6/dist-packages (from transformers) (1.18.4)\n",
            "Requirement already satisfied: tokenizers==0.7.0 in /usr/local/lib/python3.6/dist-packages (from transformers) (0.7.0)\n",
            "Requirement already satisfied: tqdm>=4.27 in /usr/local/lib/python3.6/dist-packages (from transformers) (4.41.1)\n",
            "Requirement already satisfied: sacremoses in /usr/local/lib/python3.6/dist-packages (from transformers) (0.0.43)\n",
            "Requirement already satisfied: filelock in /usr/local/lib/python3.6/dist-packages (from transformers) (3.0.12)\n",
            "Requirement already satisfied: requests in /usr/local/lib/python3.6/dist-packages (from transformers) (2.23.0)\n",
            "Requirement already satisfied: pyparsing>=2.0.2 in /usr/local/lib/python3.6/dist-packages (from packaging->transformers) (2.4.7)\n",
            "Requirement already satisfied: six in /usr/local/lib/python3.6/dist-packages (from packaging->transformers) (1.12.0)\n",
            "Requirement already satisfied: click in /usr/local/lib/python3.6/dist-packages (from sacremoses->transformers) (7.1.2)\n",
            "Requirement already satisfied: joblib in /usr/local/lib/python3.6/dist-packages (from sacremoses->transformers) (0.15.1)\n",
            "Requirement already satisfied: chardet<4,>=3.0.2 in /usr/local/lib/python3.6/dist-packages (from requests->transformers) (3.0.4)\n",
            "Requirement already satisfied: urllib3!=1.25.0,!=1.25.1,<1.26,>=1.21.1 in /usr/local/lib/python3.6/dist-packages (from requests->transformers) (1.24.3)\n",
            "Requirement already satisfied: certifi>=2017.4.17 in /usr/local/lib/python3.6/dist-packages (from requests->transformers) (2020.4.5.1)\n",
            "Requirement already satisfied: idna<3,>=2.5 in /usr/local/lib/python3.6/dist-packages (from requests->transformers) (2.9)\n"
          ],
          "name": "stdout"
        }
      ]
    },
    {
      "cell_type": "markdown",
      "metadata": {
        "id": "etyX7ESXtKOE",
        "colab_type": "text"
      },
      "source": [
        "# Scraping Reviews\n",
        "\n",
        "User Reviews from 15 Productivity apps are scrapped from Google Play Store using google-play-scraper API. "
      ]
    },
    {
      "cell_type": "code",
      "metadata": {
        "id": "hdqoLPq9tMx7",
        "colab_type": "code",
        "colab": {}
      },
      "source": [
        "import json\n",
        "import pandas as pd\n",
        "from tqdm import tqdm\n",
        "import matplotlib.pyplot as plt\n",
        "\n",
        "# pygments is a python syntax highlighter package. \n",
        "# A lexer splits the source into tokens, fragments of the source that have a token type that \n",
        "# determines what the text represents semantically (e.g., keyword, string, or comment). \n",
        "# JsonLexer is used for JSON data structures.\n",
        "from pygments.lexers import JsonLexer  \n",
        "# TerminalFormatter format tokens with ANSI color sequences, for output in a text console. \n",
        "# Color sequences are terminated at newlines, so that paging the output works correctly.\n",
        "from pygments.formatters import TerminalFormatter\n",
        "# Highlight is the most high-level highlighting function. It combines lex and format in one function.\n",
        "from pygments import highlight  \n",
        "\n",
        "from google_play_scraper import Sort, app, reviews"
      ],
      "execution_count": 0,
      "outputs": []
    },
    {
      "cell_type": "code",
      "metadata": {
        "id": "crxlL9khLg58",
        "colab_type": "code",
        "outputId": "c8c93483-ed49-48c7-8d59-4c933ec79cc2",
        "colab": {
          "base_uri": "https://localhost:8080/",
          "height": 34
        }
      },
      "source": [
        "# Apps to extract reviews from\n",
        "app_packages = [\n",
        "    'com.anydo',\n",
        "    'com.todoist',\n",
        "    'com.ticktick.task',\n",
        "    'com.habitrpg.android.habitica',\n",
        "    'cc.forestapp',\n",
        "    'com.oristats.habitbull',\n",
        "    'com.levor.liferpgtasks',\n",
        "    'com.habitnow',\n",
        "    'com.microsoft.todos',\n",
        "    'prox.lab.calclock',\n",
        "    'com.gmail.jmartindev.timetune',\n",
        "    'com.artfulagenda.app',\n",
        "    'com.tasks.android',\n",
        "    'com.appgenix.bizcal',\n",
        "    'com.appxy.planner'\n",
        "]\n",
        "\n",
        "# Scrape full detail of the applications\n",
        "app_infos = []\n",
        "for application in tqdm(app_packages):\n",
        "    info = app(application, lang='en', country='us')\n",
        "    del info['comments']\n",
        "    app_infos.append(info)\n"
      ],
      "execution_count": 5,
      "outputs": [
        {
          "output_type": "stream",
          "text": [
            "100%|██████████| 15/15 [00:02<00:00,  5.87it/s]\n"
          ],
          "name": "stderr"
        }
      ]
    },
    {
      "cell_type": "code",
      "metadata": {
        "id": "ugYSZ9OUc_80",
        "colab_type": "code",
        "colab": {}
      },
      "source": [
        "# Function to visualize json onjects with syntax highlighting\n",
        "def print_json(json_object):\n",
        "    \"\"\" This function takes as input Json Object and outputs a processed version containing syntax highlighting markup.\"\"\" \n",
        "    # json.dumps serializes 'obj' to JSON formatted 'str'.\n",
        "    json_str = json.dumps(\n",
        "        json_object,\n",
        "        indent = 2,  # JSON array elements and object members will be pretty-printed with indent level 2  \n",
        "        sort_keys=True,  # output of dictionaries will be sorted by key.\n",
        "        default=str\n",
        "    )\n",
        "    print(highlight(json_str, JsonLexer(), TerminalFormatter()))  # combines lex and format in one function"
      ],
      "execution_count": 0,
      "outputs": []
    },
    {
      "cell_type": "code",
      "metadata": {
        "id": "lDVRMVDree1X",
        "colab_type": "code",
        "outputId": "935ee879-143b-40b2-cadc-4701f27ef5ec",
        "colab": {
          "base_uri": "https://localhost:8080/",
          "height": 1000
        }
      },
      "source": [
        "print_json(app_infos[0])"
      ],
      "execution_count": 7,
      "outputs": [
        {
          "output_type": "stream",
          "text": [
            "{\n",
            "  \u001b[34;01m\"adSupported\"\u001b[39;49;00m: \u001b[34mnull\u001b[39;49;00m,\n",
            "  \u001b[34;01m\"androidVersion\"\u001b[39;49;00m: \u001b[33m\"Varies\"\u001b[39;49;00m,\n",
            "  \u001b[34;01m\"androidVersionText\"\u001b[39;49;00m: \u001b[33m\"Varies with device\"\u001b[39;49;00m,\n",
            "  \u001b[34;01m\"appId\"\u001b[39;49;00m: \u001b[33m\"com.anydo\"\u001b[39;49;00m,\n",
            "  \u001b[34;01m\"containsAds\"\u001b[39;49;00m: \u001b[34mnull\u001b[39;49;00m,\n",
            "  \u001b[34;01m\"contentRating\"\u001b[39;49;00m: \u001b[33m\"Everyone\"\u001b[39;49;00m,\n",
            "  \u001b[34;01m\"contentRatingDescription\"\u001b[39;49;00m: \u001b[34mnull\u001b[39;49;00m,\n",
            "  \u001b[34;01m\"currency\"\u001b[39;49;00m: \u001b[33m\"USD\"\u001b[39;49;00m,\n",
            "  \u001b[34;01m\"description\"\u001b[39;49;00m: \u001b[33m\"<b>\\ud83c\\udfc6 Editor's Choice by Google</b>\\r\\n\\r\\nAny.do is a To Do List, Calendar, Planner, Tasks & Reminders App That Helps Over 25M People Stay Organized and Get More Done.\\r\\n\\r\\n<b>\\ud83e\\udd47 \\\"It\\u2019s A MUST HAVE PLANNER & TO DO LIST APP\\\" (NYTimes, USA TODAY, WSJ & Lifehacker).</b>\\r\\n\\r\\nAny.do is a free to-do list, planner & calendar app for managing and organizing your daily tasks, to-do lists, notes, reminders, checklists, calendar events, grocery lists and more.\\r\\n\\r\\n\\ud83d\\udcc5 Organize Your Tasks & To-Do List in Seconds\\r\\n\\r\\n\\u2022 ADVANCED CALENDAR & DAILY PLANNER - Keep your to-do list and calendar events always at hand with our calendar widget. Any.do to-do list & planner support daily calendar view, 3-day Calendar view, Weekly calendar view & agenda view, with built-in reminders. Review and organize your calendar events and to do list side by side.\\r\\n\\r\\n\\u2022 SYNCS SEAMLESSLY - Keeps all your to do list, tasks, reminders, notes, calendar & agenda always in sync so you\\u2019ll never forget a thing. Sync your phone\\u2019s calendar, google calendar, Facebook events, outlook calendar or any other calendar so you don\\u2019t forget an important event.\\r\\n\\r\\n\\u2022 SET REMINDERS - One time reminders, recurring reminders, Location reminders & voice reminders. NEW! Easily create tasks and get reminders in WhatsApp.\\r\\n\\r\\n\\u2022 WORK TOGETHER - Share your to do list and assign tasks with your friends, family & colleagues from your task list to collaborate and get more done. \\r\\n\\r\\n---\\r\\n\\r\\nALL-IN-ONE PLANNER & CALENDAR APP FOR GETTING THINGS DONE\\r\\nCreate and set reminders with voice to your to do list. \\r\\nFor better task management flow we added a calendar integration to keep your agenda always up to date. \\r\\nFor better productivity, we added recurring reminders, location reminders, one-time reminder, sub-tasks, notes & file attachments. \\r\\nTo keep your to do list up to date, we\\u2019ve added a daily planner and focus mode.\\r\\n\\r\\nINTEGRATIONS\\r\\nAny.do To do list, Calendar, planner & Reminders Integrates with Google Calendar, Outlook, WhatsApp, Slack, Gmail, Google Tasks, Evernote, Trello, Wunderlist, Todoist, Zapier, Asana, Microsoft to-do, Salesforce, OneNote, Google Assistant, Amazon Alexa, Office 365, Exchange, Jira & More.\\r\\n\\r\\nTO DO LIST, CALENDAR, PLANNER & REMINDERS MADE SIMPLE\\r\\nDesigned to keep you on top of your to do list, tasks and calendar events with no hassle. With intuitive drag and drop of tasks, swiping to mark to-do's as complete, and shaking your device to remove completed from your to do list - you can stay organized and enjoy every minute of it.\\r\\n\\r\\nPOWERFUL TO DO LIST TASK MANAGEMENT\\r\\nAdd a to do list item straight from your email / Gmail / Outlook inbox by forwarding do@Any.do. Attach files from your computer, Dropbox, or Google Drive to your to- tasks.\\r\\n\\r\\nDAILY PLANNER & LIFE ORGANIZER\\r\\nAny.do is a to do list, a calendar, an inbox, a notepad, a checklist, task list, a board for post its or sticky notes, a task & project management tool, a reminder app, a daily planner, a family organizer, an agenda, a bill planner and overall the simplest productivity tool you will ever have. \\r\\n\\r\\nSHARE LISTS, ASSIGN & ORGANIZE TASKS\\r\\nTo plan & organize projects has never been easier. Now you can share lists between family members, assign tasks to each other, chat and much more. Any.do will help you and the people around you stay in-sync and get reminders so that you can focus on what matters, knowing you had a productive day and crossed off your to do list.\\r\\n\\r\\nGROCERY LIST & SHOPPING LIST\\r\\nAny.do task list, calendar, agenda, reminders & planner is also great for shopping lists at the grocery store. Simply create a list on Any.do, share it with your loved ones and see them adding their shopping items in real-time.\"\u001b[39;49;00m,\n",
            "  \u001b[34;01m\"descriptionHTML\"\u001b[39;49;00m: \u001b[33m\"<b>\\ud83c\\udfc6 Editor&#39;s Choice by Google</b><br><br>Any.do is a To Do List, Calendar, Planner, Tasks &amp; Reminders App That Helps Over 25M People Stay Organized and Get More Done.<br><br><b>\\ud83e\\udd47 &quot;It\\u2019s A MUST HAVE PLANNER &amp; TO DO LIST APP&quot; (NYTimes, USA TODAY, WSJ &amp; Lifehacker).</b><br><br>Any.do is a free to-do list, planner &amp; calendar app for managing and organizing your daily tasks, to-do lists, notes, reminders, checklists, calendar events, grocery lists and more.<br><br>\\ud83d\\udcc5 Organize Your Tasks &amp; To-Do List in Seconds<br><br>\\u2022 ADVANCED CALENDAR &amp; DAILY PLANNER - Keep your to-do list and calendar events always at hand with our calendar widget. Any.do to-do list &amp; planner support daily calendar view, 3-day Calendar view, Weekly calendar view &amp; agenda view, with built-in reminders. Review and organize your calendar events and to do list side by side.<br><br>\\u2022 SYNCS SEAMLESSLY - Keeps all your to do list, tasks, reminders, notes, calendar &amp; agenda always in sync so you\\u2019ll never forget a thing. Sync your phone\\u2019s calendar, google calendar, Facebook events, outlook calendar or any other calendar so you don\\u2019t forget an important event.<br><br>\\u2022 SET REMINDERS - One time reminders, recurring reminders, Location reminders &amp; voice reminders. NEW! Easily create tasks and get reminders in WhatsApp.<br><br>\\u2022 WORK TOGETHER - Share your to do list and assign tasks with your friends, family &amp; colleagues from your task list to collaborate and get more done. <br><br>---<br><br>ALL-IN-ONE PLANNER &amp; CALENDAR APP FOR GETTING THINGS DONE<br>Create and set reminders with voice to your to do list. <br>For better task management flow we added a calendar integration to keep your agenda always up to date. <br>For better productivity, we added recurring reminders, location reminders, one-time reminder, sub-tasks, notes &amp; file attachments. <br>To keep your to do list up to date, we\\u2019ve added a daily planner and focus mode.<br><br>INTEGRATIONS<br>Any.do To do list, Calendar, planner &amp; Reminders Integrates with Google Calendar, Outlook, WhatsApp, Slack, Gmail, Google Tasks, Evernote, Trello, Wunderlist, Todoist, Zapier, Asana, Microsoft to-do, Salesforce, OneNote, Google Assistant, Amazon Alexa, Office 365, Exchange, Jira &amp; More.<br><br>TO DO LIST, CALENDAR, PLANNER &amp; REMINDERS MADE SIMPLE<br>Designed to keep you on top of your to do list, tasks and calendar events with no hassle. With intuitive drag and drop of tasks, swiping to mark to-do&#39;s as complete, and shaking your device to remove completed from your to do list - you can stay organized and enjoy every minute of it.<br><br>POWERFUL TO DO LIST TASK MANAGEMENT<br>Add a to do list item straight from your email / Gmail / Outlook inbox by forwarding do@Any.do. Attach files from your computer, Dropbox, or Google Drive to your to- tasks.<br><br>DAILY PLANNER &amp; LIFE ORGANIZER<br>Any.do is a to do list, a calendar, an inbox, a notepad, a checklist, task list, a board for post its or sticky notes, a task &amp; project management tool, a reminder app, a daily planner, a family organizer, an agenda, a bill planner and overall the simplest productivity tool you will ever have. <br><br>SHARE LISTS, ASSIGN &amp; ORGANIZE TASKS<br>To plan &amp; organize projects has never been easier. Now you can share lists between family members, assign tasks to each other, chat and much more. Any.do will help you and the people around you stay in-sync and get reminders so that you can focus on what matters, knowing you had a productive day and crossed off your to do list.<br><br>GROCERY LIST &amp; SHOPPING LIST<br>Any.do task list, calendar, agenda, reminders &amp; planner is also great for shopping lists at the grocery store. Simply create a list on Any.do, share it with your loved ones and see them adding their shopping items in real-time.\"\u001b[39;49;00m,\n",
            "  \u001b[34;01m\"developer\"\u001b[39;49;00m: \u001b[33m\"Any.do Calendar & To-Do List\"\u001b[39;49;00m,\n",
            "  \u001b[34;01m\"developerAddress\"\u001b[39;49;00m: \u001b[33m\"Any.do Inc.\\n\\n6  Agripas Street, Tel Aviv\\n6249106 ISRAEL\"\u001b[39;49;00m,\n",
            "  \u001b[34;01m\"developerEmail\"\u001b[39;49;00m: \u001b[33m\"feedback+androidtodo@any.do\"\u001b[39;49;00m,\n",
            "  \u001b[34;01m\"developerId\"\u001b[39;49;00m: \u001b[33m\"5304780265295461149\"\u001b[39;49;00m,\n",
            "  \u001b[34;01m\"developerInternalID\"\u001b[39;49;00m: \u001b[33m\"5304780265295461149\"\u001b[39;49;00m,\n",
            "  \u001b[34;01m\"developerWebsite\"\u001b[39;49;00m: \u001b[33m\"https://www.any.do\"\u001b[39;49;00m,\n",
            "  \u001b[34;01m\"free\"\u001b[39;49;00m: \u001b[34mtrue\u001b[39;49;00m,\n",
            "  \u001b[34;01m\"genre\"\u001b[39;49;00m: \u001b[33m\"Productivity\"\u001b[39;49;00m,\n",
            "  \u001b[34;01m\"genreId\"\u001b[39;49;00m: \u001b[33m\"PRODUCTIVITY\"\u001b[39;49;00m,\n",
            "  \u001b[34;01m\"headerImage\"\u001b[39;49;00m: \u001b[33m\"https://lh3.googleusercontent.com/umhDP6phYKbuh-WzrSu6_bgFmAWP4qf9WsktFVBWDCMmkIwArJmyQKka7A1VcjFoEQc\"\u001b[39;49;00m,\n",
            "  \u001b[34;01m\"histogram\"\u001b[39;49;00m: [\n",
            "    \u001b[34m29655\u001b[39;49;00m,\n",
            "    \u001b[34m9825\u001b[39;49;00m,\n",
            "    \u001b[34m14933\u001b[39;49;00m,\n",
            "    \u001b[34m31395\u001b[39;49;00m,\n",
            "    \u001b[34m261378\u001b[39;49;00m\n",
            "  ],\n",
            "  \u001b[34;01m\"icon\"\u001b[39;49;00m: \u001b[33m\"https://lh3.googleusercontent.com/zgOLUXCHkF91H8xuMTMLT17smwgLPwSBjUlKVWF-cZRFjlv-Uvtman7DiHEii54fbEE\"\u001b[39;49;00m,\n",
            "  \u001b[34;01m\"installs\"\u001b[39;49;00m: \u001b[33m\"10,000,000+\"\u001b[39;49;00m,\n",
            "  \u001b[34;01m\"minInstalls\"\u001b[39;49;00m: \u001b[34m10000000\u001b[39;49;00m,\n",
            "  \u001b[34;01m\"offersIAP\"\u001b[39;49;00m: \u001b[34mtrue\u001b[39;49;00m,\n",
            "  \u001b[34;01m\"originalPrice\"\u001b[39;49;00m: \u001b[34mnull\u001b[39;49;00m,\n",
            "  \u001b[34;01m\"price\"\u001b[39;49;00m: \u001b[34m0\u001b[39;49;00m,\n",
            "  \u001b[34;01m\"privacyPolicy\"\u001b[39;49;00m: \u001b[33m\"https://www.any.do/privacy\"\u001b[39;49;00m,\n",
            "  \u001b[34;01m\"ratings\"\u001b[39;49;00m: \u001b[34m347188\u001b[39;49;00m,\n",
            "  \u001b[34;01m\"recentChanges\"\u001b[39;49;00m: \u001b[33m\"\\u2192 Create tasks and reminders with natural language - works in all languages\\r\\n\\u2192 Improved security and enhanced performance\\r\\n\\u2192 Improved localization\"\u001b[39;49;00m,\n",
            "  \u001b[34;01m\"recentChangesHTML\"\u001b[39;49;00m: \u001b[33m\"\\u2192 Create tasks and reminders with natural language - works in all languages<br>\\u2192 Improved security and enhanced performance<br>\\u2192 Improved localization\"\u001b[39;49;00m,\n",
            "  \u001b[34;01m\"released\"\u001b[39;49;00m: \u001b[33m\"Nov 10, 2011\"\u001b[39;49;00m,\n",
            "  \u001b[34;01m\"reviews\"\u001b[39;49;00m: \u001b[34m123486\u001b[39;49;00m,\n",
            "  \u001b[34;01m\"sale\"\u001b[39;49;00m: \u001b[34mfalse\u001b[39;49;00m,\n",
            "  \u001b[34;01m\"saleText\"\u001b[39;49;00m: \u001b[34mnull\u001b[39;49;00m,\n",
            "  \u001b[34;01m\"saleTime\"\u001b[39;49;00m: \u001b[34mnull\u001b[39;49;00m,\n",
            "  \u001b[34;01m\"score\"\u001b[39;49;00m: \u001b[34m4.3969803\u001b[39;49;00m,\n",
            "  \u001b[34;01m\"screenshots\"\u001b[39;49;00m: [\n",
            "    \u001b[33m\"https://lh3.googleusercontent.com/DKoi-PetUjxA72WfW5xkZFYdJiTWF11octVoepNaNRZ5NQaG4S_Hi285zpvFud8otQ\"\u001b[39;49;00m,\n",
            "    \u001b[33m\"https://lh3.googleusercontent.com/Zpjana_e6VV4qAWkOiE3QJOQYEEjLfuwCSLorLDZTVYPtQKf10tOD4jY-5S3b-oB5OMg\"\u001b[39;49;00m,\n",
            "    \u001b[33m\"https://lh3.googleusercontent.com/vgM8-VcnNjgNBTtuneMZRUahF7qTTJuKqc5WlGibjhFHnafavryGE60mFJPo4GGeIdY0\"\u001b[39;49;00m,\n",
            "    \u001b[33m\"https://lh3.googleusercontent.com/s9moD1j9s782_sdZM8lGr86Pg1XDr4cYME4_DgzA0YJ2mKJIWPYD-nQMtPm5R1pygxrF\"\u001b[39;49;00m,\n",
            "    \u001b[33m\"https://lh3.googleusercontent.com/V1cOBNSz9IW1ffAhGQL6i9b2axRUqq5j-GNPxJaOXPL9xXLc1EP34UoEDEHD11zA3Vcs\"\u001b[39;49;00m,\n",
            "    \u001b[33m\"https://lh3.googleusercontent.com/RyosdOslfoGFNYMOpD9L9t0_c3cZTGuixoY_NkDpWC2T8kw3t2MvKuXmbTCM81oKlhFy\"\u001b[39;49;00m,\n",
            "    \u001b[33m\"https://lh3.googleusercontent.com/F7T_Rn097p5lidy3dQ2q_cXXcHCy4T1FUThFWADfJAL9M7DxgpDhdKJD9yg0PduKNAY\"\u001b[39;49;00m,\n",
            "    \u001b[33m\"https://lh3.googleusercontent.com/pumURJtxxldoaNnkI_Iylbk-RMMosUg8Rk6QeZu262jEnba85Ui4JHpc1VXPc6Eb\"\u001b[39;49;00m,\n",
            "    \u001b[33m\"https://lh3.googleusercontent.com/Ag6B_DGk9_1MRUBOuG7Sxf_rV3lrEEH5HSPhDN7ASoUf3J19DzWUzCbyT-jD2dQFzh1q\"\u001b[39;49;00m,\n",
            "    \u001b[33m\"https://lh3.googleusercontent.com/850qSgeDZTPHrAY_jN0gKMNUw4mSxgXYC4DJpr5VNIjIYw11FWQuhfx40WjuvKToFUo\"\u001b[39;49;00m,\n",
            "    \u001b[33m\"https://lh3.googleusercontent.com/LT5jCSeyTRUFBrurelvAj1Q4bWyEHO6J_EV1THGJK7ueTswZ8uKEp6y99k3gVf0DUvQ\"\u001b[39;49;00m,\n",
            "    \u001b[33m\"https://lh3.googleusercontent.com/KqtRzKOlh3m_hHXiLOqdHmxbhNPIk0C51LZQE4YcgVCMb4BaJipTlc9ow3CGlpYHqJs\"\u001b[39;49;00m,\n",
            "    \u001b[33m\"https://lh3.googleusercontent.com/mwr_IfWGsGjPpXWqHybCWoWqaCvZErObdEvFwgSoT6s6x8S6g4uy98h1fwAL3S4yMlsF\"\u001b[39;49;00m,\n",
            "    \u001b[33m\"https://lh3.googleusercontent.com/Cb5cWer5CQ_qsKjfopkB5_8X8YvlwjniXPDyXoidprpQW2ThLGUYc4rm5PEEnVQ2Ht8\"\u001b[39;49;00m,\n",
            "    \u001b[33m\"https://lh3.googleusercontent.com/SO4phZcVgxoxGQErCTMnB-meQoL3ICFJ2e0bXDODZUX_6cUow5IFbGJZEX2VRhPRF2qZ\"\u001b[39;49;00m,\n",
            "    \u001b[33m\"https://lh3.googleusercontent.com/f7HPf00RWiZwSKFFoZjJV0x0QwYpNYhvQrF1sgjepSGN3tvQoWeiP35jPTq9PKull4g\"\u001b[39;49;00m,\n",
            "    \u001b[33m\"https://lh3.googleusercontent.com/BlKhDEn00mfTXO85wiI9x-69-4V7m3ISqJcz_ivS-TM_ks-U1DyIZJI_ZjW3MqBmgCy7\"\u001b[39;49;00m,\n",
            "    \u001b[33m\"https://lh3.googleusercontent.com/umiy-JmCTjmzX6jZ1cvbawA9BJxnzjthYSO8xbAZYPCR5wM7UyrNgIcOa_Q6zosnkA\"\u001b[39;49;00m,\n",
            "    \u001b[33m\"https://lh3.googleusercontent.com/M3VXLgGhwCoLwGYHIC1CGzlVhLjMs7RtN8WS4ceCq70Hk5j3x2hLXBrWplJBn4Nyt6k\"\u001b[39;49;00m,\n",
            "    \u001b[33m\"https://lh3.googleusercontent.com/PO2t_R8WPdKLcoG941_2RZt0Iwn_OzeMHEBO_2Q6fGXAr3ckGT8ZKDpcgdBiS2Wqk5o\"\u001b[39;49;00m,\n",
            "    \u001b[33m\"https://lh3.googleusercontent.com/yQKx03JkhBV-hHEU7nmuE08Li_PERLF2W0QiFW78nyz5tzwNdpFEjTExhqOQAzk-6EQv\"\u001b[39;49;00m,\n",
            "    \u001b[33m\"https://lh3.googleusercontent.com/W5n_c18XVBzN9nH9oX4V3ByxVRfsfrBj65NW8vAjLNtCJcjOxAV-PgF_9FWV6Z-myCE\"\u001b[39;49;00m,\n",
            "    \u001b[33m\"https://lh3.googleusercontent.com/byMaI7LjOUnAaNtIy9FeL3yeJbqXIQUlH8fcqAADy90oEQZ-65eEf6IETLobV9U6jw4\"\u001b[39;49;00m,\n",
            "    \u001b[33m\"https://lh3.googleusercontent.com/fq8Ly_fz4KNkOVocao8B5VPx8yfoPS3iCBpZiYFR1SC6YPGYl9C9KZ1tEN6VuQEKev_C\"\u001b[39;49;00m\n",
            "  ],\n",
            "  \u001b[34;01m\"size\"\u001b[39;49;00m: \u001b[33m\"Varies with device\"\u001b[39;49;00m,\n",
            "  \u001b[34;01m\"summary\"\u001b[39;49;00m: \u001b[33m\"Task Manager \\u2705 Organizer \\ud83d\\udcc5 Agenda \\ud83d\\udcdd Daily Reminders \\ud83d\\udd14 All-in-One Simple App.\"\u001b[39;49;00m,\n",
            "  \u001b[34;01m\"summaryHTML\"\u001b[39;49;00m: \u001b[33m\"Task Manager \\u2705 Organizer \\ud83d\\udcc5 Agenda \\ud83d\\udcdd Daily Reminders \\ud83d\\udd14 All-in-One Simple App.\"\u001b[39;49;00m,\n",
            "  \u001b[34;01m\"title\"\u001b[39;49;00m: \u001b[33m\"Any.do: To do list, Calendar, Planner & Reminders\"\u001b[39;49;00m,\n",
            "  \u001b[34;01m\"updated\"\u001b[39;49;00m: \u001b[34m1591167996\u001b[39;49;00m,\n",
            "  \u001b[34;01m\"url\"\u001b[39;49;00m: \u001b[33m\"https://play.google.com/store/apps/details?id=com.anydo&hl=en&gl=us\"\u001b[39;49;00m,\n",
            "  \u001b[34;01m\"version\"\u001b[39;49;00m: \u001b[33m\"Varies with device\"\u001b[39;49;00m,\n",
            "  \u001b[34;01m\"video\"\u001b[39;49;00m: \u001b[33m\"https://www.youtube.com/embed/2nkllLD0x6o?ps=play&vq=large&rel=0&autohide=1&showinfo=0\"\u001b[39;49;00m,\n",
            "  \u001b[34;01m\"videoImage\"\u001b[39;49;00m: \u001b[33m\"https://i.ytimg.com/vi/2nkllLD0x6o/hqdefault.jpg\"\u001b[39;49;00m\n",
            "}\n",
            "\n"
          ],
          "name": "stdout"
        }
      ]
    },
    {
      "cell_type": "code",
      "metadata": {
        "id": "df_7EVu8Lg1W",
        "colab_type": "code",
        "outputId": "96fee7e1-e7b3-4b9e-ae2a-6515bfa59f30",
        "colab": {
          "base_uri": "https://localhost:8080/",
          "height": 695
        }
      },
      "source": [
        "# Create Dataframe of extracted app information\n",
        "app_infos_df = pd.DataFrame(app_infos)\n",
        "app_infos_df.head()"
      ],
      "execution_count": 8,
      "outputs": [
        {
          "output_type": "execute_result",
          "data": {
            "text/html": [
              "<div>\n",
              "<style scoped>\n",
              "    .dataframe tbody tr th:only-of-type {\n",
              "        vertical-align: middle;\n",
              "    }\n",
              "\n",
              "    .dataframe tbody tr th {\n",
              "        vertical-align: top;\n",
              "    }\n",
              "\n",
              "    .dataframe thead th {\n",
              "        text-align: right;\n",
              "    }\n",
              "</style>\n",
              "<table border=\"1\" class=\"dataframe\">\n",
              "  <thead>\n",
              "    <tr style=\"text-align: right;\">\n",
              "      <th></th>\n",
              "      <th>title</th>\n",
              "      <th>description</th>\n",
              "      <th>descriptionHTML</th>\n",
              "      <th>summary</th>\n",
              "      <th>summaryHTML</th>\n",
              "      <th>installs</th>\n",
              "      <th>minInstalls</th>\n",
              "      <th>score</th>\n",
              "      <th>ratings</th>\n",
              "      <th>reviews</th>\n",
              "      <th>histogram</th>\n",
              "      <th>price</th>\n",
              "      <th>free</th>\n",
              "      <th>currency</th>\n",
              "      <th>sale</th>\n",
              "      <th>saleTime</th>\n",
              "      <th>originalPrice</th>\n",
              "      <th>saleText</th>\n",
              "      <th>offersIAP</th>\n",
              "      <th>size</th>\n",
              "      <th>androidVersion</th>\n",
              "      <th>androidVersionText</th>\n",
              "      <th>developer</th>\n",
              "      <th>developerId</th>\n",
              "      <th>developerEmail</th>\n",
              "      <th>developerWebsite</th>\n",
              "      <th>developerAddress</th>\n",
              "      <th>privacyPolicy</th>\n",
              "      <th>developerInternalID</th>\n",
              "      <th>genre</th>\n",
              "      <th>genreId</th>\n",
              "      <th>icon</th>\n",
              "      <th>headerImage</th>\n",
              "      <th>screenshots</th>\n",
              "      <th>video</th>\n",
              "      <th>videoImage</th>\n",
              "      <th>contentRating</th>\n",
              "      <th>contentRatingDescription</th>\n",
              "      <th>adSupported</th>\n",
              "      <th>containsAds</th>\n",
              "      <th>released</th>\n",
              "      <th>updated</th>\n",
              "      <th>version</th>\n",
              "      <th>recentChanges</th>\n",
              "      <th>recentChangesHTML</th>\n",
              "      <th>appId</th>\n",
              "      <th>url</th>\n",
              "    </tr>\n",
              "  </thead>\n",
              "  <tbody>\n",
              "    <tr>\n",
              "      <th>0</th>\n",
              "      <td>Any.do: To do list, Calendar, Planner &amp; Reminders</td>\n",
              "      <td>&lt;b&gt;🏆 Editor's Choice by Google&lt;/b&gt;\\r\\n\\r\\nAny....</td>\n",
              "      <td>&lt;b&gt;🏆 Editor&amp;#39;s Choice by Google&lt;/b&gt;&lt;br&gt;&lt;br&gt;...</td>\n",
              "      <td>Task Manager ✅ Organizer 📅 Agenda 📝 Daily Remi...</td>\n",
              "      <td>Task Manager ✅ Organizer 📅 Agenda 📝 Daily Remi...</td>\n",
              "      <td>10,000,000+</td>\n",
              "      <td>10000000</td>\n",
              "      <td>4.396980</td>\n",
              "      <td>347188</td>\n",
              "      <td>123486</td>\n",
              "      <td>[29655, 9825, 14933, 31395, 261378]</td>\n",
              "      <td>0</td>\n",
              "      <td>True</td>\n",
              "      <td>USD</td>\n",
              "      <td>False</td>\n",
              "      <td>None</td>\n",
              "      <td>None</td>\n",
              "      <td>None</td>\n",
              "      <td>True</td>\n",
              "      <td>Varies with device</td>\n",
              "      <td>Varies</td>\n",
              "      <td>Varies with device</td>\n",
              "      <td>Any.do Calendar &amp; To-Do List</td>\n",
              "      <td>5304780265295461149</td>\n",
              "      <td>feedback+androidtodo@any.do</td>\n",
              "      <td>https://www.any.do</td>\n",
              "      <td>Any.do Inc.\\n\\n6  Agripas Street, Tel Aviv\\n62...</td>\n",
              "      <td>https://www.any.do/privacy</td>\n",
              "      <td>5304780265295461149</td>\n",
              "      <td>Productivity</td>\n",
              "      <td>PRODUCTIVITY</td>\n",
              "      <td>https://lh3.googleusercontent.com/zgOLUXCHkF91...</td>\n",
              "      <td>https://lh3.googleusercontent.com/umhDP6phYKbu...</td>\n",
              "      <td>[https://lh3.googleusercontent.com/DKoi-PetUjx...</td>\n",
              "      <td>https://www.youtube.com/embed/2nkllLD0x6o?ps=p...</td>\n",
              "      <td>https://i.ytimg.com/vi/2nkllLD0x6o/hqdefault.jpg</td>\n",
              "      <td>Everyone</td>\n",
              "      <td>None</td>\n",
              "      <td>None</td>\n",
              "      <td>None</td>\n",
              "      <td>Nov 10, 2011</td>\n",
              "      <td>1591167996</td>\n",
              "      <td>Varies with device</td>\n",
              "      <td>→ Create tasks and reminders with natural lang...</td>\n",
              "      <td>→ Create tasks and reminders with natural lang...</td>\n",
              "      <td>com.anydo</td>\n",
              "      <td>https://play.google.com/store/apps/details?id=...</td>\n",
              "    </tr>\n",
              "    <tr>\n",
              "      <th>1</th>\n",
              "      <td>Todoist: To-Do List, Tasks &amp; Reminders</td>\n",
              "      <td>🏆 &lt;b&gt;2019 Editor's Choice&lt;/b&gt; by Google\\r\\n🥇 \"...</td>\n",
              "      <td>🏆 &lt;b&gt;2019 Editor&amp;#39;s Choice&lt;/b&gt; by Google&lt;br...</td>\n",
              "      <td>\"The best to-do list\" — The Verge. Tasks ✅ Rem...</td>\n",
              "      <td>&amp;quot;The best to-do list&amp;quot; — The Verge. T...</td>\n",
              "      <td>10,000,000+</td>\n",
              "      <td>10000000</td>\n",
              "      <td>4.570280</td>\n",
              "      <td>200831</td>\n",
              "      <td>61406</td>\n",
              "      <td>[6990, 3301, 7133, 34166, 149238]</td>\n",
              "      <td>0</td>\n",
              "      <td>True</td>\n",
              "      <td>USD</td>\n",
              "      <td>False</td>\n",
              "      <td>None</td>\n",
              "      <td>None</td>\n",
              "      <td>None</td>\n",
              "      <td>True</td>\n",
              "      <td>Varies with device</td>\n",
              "      <td>Varies</td>\n",
              "      <td>Varies with device</td>\n",
              "      <td>Doist</td>\n",
              "      <td>6748661820728732000</td>\n",
              "      <td>support@todoist.com</td>\n",
              "      <td>http://todoist.com</td>\n",
              "      <td>Doist\\n201 Mission Street, Suite 1200\\nSan Fra...</td>\n",
              "      <td>https://todoist.com/Help/viewPrivacyPolicy</td>\n",
              "      <td>6748661820728732000</td>\n",
              "      <td>Productivity</td>\n",
              "      <td>PRODUCTIVITY</td>\n",
              "      <td>https://lh3.googleusercontent.com/GK0SwEBVqlFB...</td>\n",
              "      <td>https://lh3.googleusercontent.com/sAjzU1fUnmqJ...</td>\n",
              "      <td>[https://lh3.googleusercontent.com/cealfl906mH...</td>\n",
              "      <td>None</td>\n",
              "      <td>None</td>\n",
              "      <td>Everyone</td>\n",
              "      <td>None</td>\n",
              "      <td>None</td>\n",
              "      <td>None</td>\n",
              "      <td>Nov 18, 2012</td>\n",
              "      <td>1590154942</td>\n",
              "      <td>Varies with device</td>\n",
              "      <td>- ⚙️️ You can now use Sign in with Apple to qu...</td>\n",
              "      <td>- ⚙️️ You can now use Sign in with Apple to qu...</td>\n",
              "      <td>com.todoist</td>\n",
              "      <td>https://play.google.com/store/apps/details?id=...</td>\n",
              "    </tr>\n",
              "    <tr>\n",
              "      <th>2</th>\n",
              "      <td>TickTick: ToDo List Planner, Reminder &amp; Calendar</td>\n",
              "      <td>🏆Editor's Choice by Google\\r\\n🥇Great to-do lis...</td>\n",
              "      <td>🏆Editor&amp;#39;s Choice by Google&lt;br&gt;🥇Great to-do...</td>\n",
              "      <td>Task &amp; time manager by Editor’s Choice🏆. Get t...</td>\n",
              "      <td>Task &amp;amp; time manager by Editor’s Choice🏆. G...</td>\n",
              "      <td>1,000,000+</td>\n",
              "      <td>1000000</td>\n",
              "      <td>4.661570</td>\n",
              "      <td>60099</td>\n",
              "      <td>22460</td>\n",
              "      <td>[1555, 818, 1676, 8311, 47737]</td>\n",
              "      <td>0</td>\n",
              "      <td>True</td>\n",
              "      <td>USD</td>\n",
              "      <td>False</td>\n",
              "      <td>None</td>\n",
              "      <td>None</td>\n",
              "      <td>None</td>\n",
              "      <td>True</td>\n",
              "      <td>Varies with device</td>\n",
              "      <td>Varies</td>\n",
              "      <td>Varies with device</td>\n",
              "      <td>Appest Inc.</td>\n",
              "      <td>7269704759597705101</td>\n",
              "      <td>ticktick.com@gmail.com</td>\n",
              "      <td>https://ticktick.com</td>\n",
              "      <td>FLAT/RM 1002C\\nGINZA SQUARE\\nNO.567 NATHAN ROA...</td>\n",
              "      <td>https://ticktick.com/about/privacy</td>\n",
              "      <td>7269704759597705101</td>\n",
              "      <td>Productivity</td>\n",
              "      <td>PRODUCTIVITY</td>\n",
              "      <td>https://lh3.googleusercontent.com/YSlqf3WBgIuN...</td>\n",
              "      <td>https://lh3.googleusercontent.com/m-kwaaJEP_P6...</td>\n",
              "      <td>[https://lh3.googleusercontent.com/6yyzsueMEND...</td>\n",
              "      <td>None</td>\n",
              "      <td>None</td>\n",
              "      <td>Everyone</td>\n",
              "      <td>None</td>\n",
              "      <td>None</td>\n",
              "      <td>None</td>\n",
              "      <td>Jun 19, 2013</td>\n",
              "      <td>1589767029</td>\n",
              "      <td>Varies with device</td>\n",
              "      <td>5700\\r\\n🌟 Enriched Habit choices, customizable...</td>\n",
              "      <td>5700&lt;br&gt;🌟 Enriched Habit choices, customizable...</td>\n",
              "      <td>com.ticktick.task</td>\n",
              "      <td>https://play.google.com/store/apps/details?id=...</td>\n",
              "    </tr>\n",
              "    <tr>\n",
              "      <th>3</th>\n",
              "      <td>Habitica: Gamify Your Tasks</td>\n",
              "      <td>Treat your life like a game to stay motivated ...</td>\n",
              "      <td>Treat your life like a game to stay motivated ...</td>\n",
              "      <td>Treat your life like a game to stay motivated ...</td>\n",
              "      <td>Treat your life like a game to stay motivated ...</td>\n",
              "      <td>1,000,000+</td>\n",
              "      <td>1000000</td>\n",
              "      <td>4.256313</td>\n",
              "      <td>16006</td>\n",
              "      <td>6806</td>\n",
              "      <td>[1162, 636, 1354, 2637, 10215]</td>\n",
              "      <td>0</td>\n",
              "      <td>True</td>\n",
              "      <td>USD</td>\n",
              "      <td>False</td>\n",
              "      <td>None</td>\n",
              "      <td>None</td>\n",
              "      <td>None</td>\n",
              "      <td>True</td>\n",
              "      <td>8.2M</td>\n",
              "      <td>5.0</td>\n",
              "      <td>5.0 and up</td>\n",
              "      <td>HabitRPG, Inc.</td>\n",
              "      <td>HabitRPG,+Inc.</td>\n",
              "      <td>mobile@habitica.com</td>\n",
              "      <td>https://habitica.com</td>\n",
              "      <td>11870 Santa Monica Blvd.\\nSuite 106-577\\nLos A...</td>\n",
              "      <td>https://habitica.com/static/privacy</td>\n",
              "      <td>7023585019856140116</td>\n",
              "      <td>Productivity</td>\n",
              "      <td>PRODUCTIVITY</td>\n",
              "      <td>https://lh3.googleusercontent.com/8OCsGkPqZe2E...</td>\n",
              "      <td>https://lh3.googleusercontent.com/L1UaUkbK8_SL...</td>\n",
              "      <td>[https://lh3.googleusercontent.com/y6kN8Okqkkb...</td>\n",
              "      <td>None</td>\n",
              "      <td>None</td>\n",
              "      <td>Everyone</td>\n",
              "      <td>None</td>\n",
              "      <td>None</td>\n",
              "      <td>None</td>\n",
              "      <td>Dec 10, 2015</td>\n",
              "      <td>1588598295</td>\n",
              "      <td>2.6.2</td>\n",
              "      <td>This update improves performance in some cases...</td>\n",
              "      <td>This update improves performance in some cases...</td>\n",
              "      <td>com.habitrpg.android.habitica</td>\n",
              "      <td>https://play.google.com/store/apps/details?id=...</td>\n",
              "    </tr>\n",
              "    <tr>\n",
              "      <th>4</th>\n",
              "      <td>Forest: Stay focused</td>\n",
              "      <td>&lt;b&gt;★ Staying focused with the cutest gamified ...</td>\n",
              "      <td>&lt;b&gt;★ Staying focused with the cutest gamified ...</td>\n",
              "      <td>The best cure for phone addiction.</td>\n",
              "      <td>The best cure for phone addiction.</td>\n",
              "      <td>10,000,000+</td>\n",
              "      <td>10000000</td>\n",
              "      <td>4.573974</td>\n",
              "      <td>213732</td>\n",
              "      <td>73374</td>\n",
              "      <td>[7686, 3808, 9465, 29953, 162818]</td>\n",
              "      <td>0</td>\n",
              "      <td>True</td>\n",
              "      <td>USD</td>\n",
              "      <td>False</td>\n",
              "      <td>None</td>\n",
              "      <td>None</td>\n",
              "      <td>None</td>\n",
              "      <td>True</td>\n",
              "      <td>59M</td>\n",
              "      <td>4.4</td>\n",
              "      <td>4.4 and up</td>\n",
              "      <td>Seekrtech</td>\n",
              "      <td>8375803120194789677</td>\n",
              "      <td>android.support@forestapp.cc</td>\n",
              "      <td>https://forestapp.cc/</td>\n",
              "      <td>28F., No. 218, Sec. 2, Taiwan Blvd., West Dist...</td>\n",
              "      <td>https://www.forestapp.cc/privacy</td>\n",
              "      <td>8375803120194789677</td>\n",
              "      <td>Productivity</td>\n",
              "      <td>PRODUCTIVITY</td>\n",
              "      <td>https://lh3.googleusercontent.com/NWRVVF6zXvmc...</td>\n",
              "      <td>https://lh3.googleusercontent.com/hUouWGBnzja5...</td>\n",
              "      <td>[https://lh3.googleusercontent.com/6tBd1-08Io5...</td>\n",
              "      <td>None</td>\n",
              "      <td>None</td>\n",
              "      <td>Everyone</td>\n",
              "      <td>None</td>\n",
              "      <td>True</td>\n",
              "      <td>True</td>\n",
              "      <td>Aug 25, 2014</td>\n",
              "      <td>1591168260</td>\n",
              "      <td>4.17.2</td>\n",
              "      <td>• Some bug fixes</td>\n",
              "      <td>• Some bug fixes</td>\n",
              "      <td>cc.forestapp</td>\n",
              "      <td>https://play.google.com/store/apps/details?id=...</td>\n",
              "    </tr>\n",
              "  </tbody>\n",
              "</table>\n",
              "</div>"
            ],
            "text/plain": [
              "                                               title  ...                                                url\n",
              "0  Any.do: To do list, Calendar, Planner & Reminders  ...  https://play.google.com/store/apps/details?id=...\n",
              "1             Todoist: To-Do List, Tasks & Reminders  ...  https://play.google.com/store/apps/details?id=...\n",
              "2   TickTick: ToDo List Planner, Reminder & Calendar  ...  https://play.google.com/store/apps/details?id=...\n",
              "3                        Habitica: Gamify Your Tasks  ...  https://play.google.com/store/apps/details?id=...\n",
              "4                               Forest: Stay focused  ...  https://play.google.com/store/apps/details?id=...\n",
              "\n",
              "[5 rows x 47 columns]"
            ]
          },
          "metadata": {
            "tags": []
          },
          "execution_count": 8
        }
      ]
    },
    {
      "cell_type": "markdown",
      "metadata": {
        "id": "_Gh65OO9f6QP",
        "colab_type": "text"
      },
      "source": [
        "The above dataframe contains complete information regarding each app used for this project. But we are interested in user reviews on each of these apps, which will scraped further on. But before, let's take a look at the icons of these apps. "
      ]
    },
    {
      "cell_type": "code",
      "metadata": {
        "id": "LQrf9JMlfn6C",
        "colab_type": "code",
        "outputId": "3989aa61-fd43-46fd-cde9-16c7f3434f40",
        "colab": {
          "base_uri": "https://localhost:8080/",
          "height": 234
        }
      },
      "source": [
        "# Take a look at icons of apps\n",
        "# Function to format Title of app \n",
        "def format_title(title):\n",
        "    # Note: .find() returns -1 if value is not found. If value is found it returns index.\n",
        "    # If ':' is not equal to -1 i.e. it finds ':' then return index of ':' else return index of '-'\n",
        "    sep_index = title.find(':') if title.find(':') != -1 else title.find('-')\n",
        "    return title[:sep_index][:10]\n",
        "\n",
        "fig, axes = plt.subplots(nrows=2, ncols= len(app_packages) // 2  , figsize=(10,4))\n",
        "for i, ax in enumerate(axes.flat):\n",
        "    app_info = app_infos[i]\n",
        "    img = plt.imread(app_info['icon'])  # Read an image from a file(a filename, a URL or a file-like object) into an array.\n",
        "    ax.imshow(img)  # Display an image, i.e. data on a 2D regular raster.\n",
        "    ax.set_title(format_title(app_info['title']))\n",
        "    ax.axis('off')"
      ],
      "execution_count": 9,
      "outputs": [
        {
          "output_type": "display_data",
          "data": {
            "image/png": "[encoded data removed]",
            "text/plain": [
              "<Figure size 720x288 with 14 Axes>"
            ]
          },
          "metadata": {
            "tags": [],
            "needs_background": "light"
          }
        }
      ]
    },
    {
      "cell_type": "markdown",
      "metadata": {
        "id": "dQi2il4Zcsc1",
        "colab_type": "text"
      },
      "source": [
        "Let's scrape the reviews!"
      ]
    },
    {
      "cell_type": "code",
      "metadata": {
        "id": "i_hwIjl5LgYB",
        "colab_type": "code",
        "outputId": "9cde01e2-9d9a-4b27-973e-443b10d19aa4",
        "colab": {
          "base_uri": "https://localhost:8080/",
          "height": 34
        }
      },
      "source": [
        "# Scrape reviews for the application\n",
        "app_reviews = []\n",
        "\n",
        "# For each app in the list\n",
        "for application in tqdm(app_packages):\n",
        "    # For each score rating \n",
        "    for score in list(range(1,6)):\n",
        "        # For most relevent and newest reviews \n",
        "        for sort_order in [Sort.MOST_RELEVANT, Sort.NEWEST]:\n",
        "            # We will extract the reviews\n",
        "            revs, _ = reviews(\n",
        "                application,\n",
        "                lang='en',\n",
        "                country='us',\n",
        "                sort=sort_order,\n",
        "                count=200 if score == 3 else 100,  # Negative reviews(Score 1,2), Neutral (Score 3), Positive(4,5). Hence, Neutral required double.\n",
        "                filter_score_with=score\n",
        "            )\n",
        "            for r in revs:\n",
        "                r['sortOrder'] = 'most_relevant' if sort_order == Sort.MOST_RELEVANT else 'newest'\n",
        "                r['appId'] = application\n",
        "            app_reviews.extend(revs)"
      ],
      "execution_count": 10,
      "outputs": [
        {
          "output_type": "stream",
          "text": [
            "100%|██████████| 15/15 [00:50<00:00,  3.34s/it]\n"
          ],
          "name": "stderr"
        }
      ]
    },
    {
      "cell_type": "code",
      "metadata": {
        "id": "MScpRkttLqi-",
        "colab_type": "code",
        "outputId": "dc11f266-0551-4214-f5db-1ab0667eebd0",
        "colab": {
          "base_uri": "https://localhost:8080/",
          "height": 574
        }
      },
      "source": [
        "# Create Dataframe of scraped app reviews\n",
        "app_reviews_df = pd.DataFrame(app_reviews)\n",
        "#app_reviews_df.drop('reviewId', axis=1, inplace=True)\n",
        "print(f'Total number of reviews: {app_reviews_df.shape[0]}')\n",
        "app_reviews_df.head()"
      ],
      "execution_count": 11,
      "outputs": [
        {
          "output_type": "stream",
          "text": [
            "Total number of reviews: 15946\n"
          ],
          "name": "stdout"
        },
        {
          "output_type": "execute_result",
          "data": {
            "text/html": [
              "<div>\n",
              "<style scoped>\n",
              "    .dataframe tbody tr th:only-of-type {\n",
              "        vertical-align: middle;\n",
              "    }\n",
              "\n",
              "    .dataframe tbody tr th {\n",
              "        vertical-align: top;\n",
              "    }\n",
              "\n",
              "    .dataframe thead th {\n",
              "        text-align: right;\n",
              "    }\n",
              "</style>\n",
              "<table border=\"1\" class=\"dataframe\">\n",
              "  <thead>\n",
              "    <tr style=\"text-align: right;\">\n",
              "      <th></th>\n",
              "      <th>reviewId</th>\n",
              "      <th>userName</th>\n",
              "      <th>userImage</th>\n",
              "      <th>content</th>\n",
              "      <th>score</th>\n",
              "      <th>thumbsUpCount</th>\n",
              "      <th>reviewCreatedVersion</th>\n",
              "      <th>at</th>\n",
              "      <th>replyContent</th>\n",
              "      <th>repliedAt</th>\n",
              "      <th>sortOrder</th>\n",
              "      <th>appId</th>\n",
              "    </tr>\n",
              "  </thead>\n",
              "  <tbody>\n",
              "    <tr>\n",
              "      <th>0</th>\n",
              "      <td>gp:AOqpTOF_OBDJpMDUE3xGa8fbyCJDD3mM8z5AGNSIf4q...</td>\n",
              "      <td>Dominic Flanagan</td>\n",
              "      <td>https://lh3.googleusercontent.com/a-/AOh14Gjk1...</td>\n",
              "      <td>Pretty basic for the price. Lacks customisatio...</td>\n",
              "      <td>1</td>\n",
              "      <td>2</td>\n",
              "      <td>5.1.1.13</td>\n",
              "      <td>2020-05-28 16:23:37</td>\n",
              "      <td>Be advised that Any.do is a minimalistic task ...</td>\n",
              "      <td>2020-05-31 09:01:09</td>\n",
              "      <td>most_relevant</td>\n",
              "      <td>com.anydo</td>\n",
              "    </tr>\n",
              "    <tr>\n",
              "      <th>1</th>\n",
              "      <td>gp:AOqpTOHuZQkkDNAmNUpwfdnQSjZtvvwFoWVyPf5rWPk...</td>\n",
              "      <td>G Irish</td>\n",
              "      <td>https://lh3.googleusercontent.com/a-/AOh14Gjwg...</td>\n",
              "      <td>This last update has brought all kinds of bugs...</td>\n",
              "      <td>1</td>\n",
              "      <td>9</td>\n",
              "      <td>5.1.1.13</td>\n",
              "      <td>2020-05-23 01:40:48</td>\n",
              "      <td>Sorry about that! We are unaware of any issues...</td>\n",
              "      <td>2020-05-24 08:04:09</td>\n",
              "      <td>most_relevant</td>\n",
              "      <td>com.anydo</td>\n",
              "    </tr>\n",
              "    <tr>\n",
              "      <th>2</th>\n",
              "      <td>gp:AOqpTOENSETZVCAj3t-TMO9ZBmlqOLB9ujgQYdHbnj9...</td>\n",
              "      <td>Mohit Singla</td>\n",
              "      <td>https://lh3.googleusercontent.com/a-/AOh14GiJ0...</td>\n",
              "      <td>I have set daily reminders. It doesn't show th...</td>\n",
              "      <td>1</td>\n",
              "      <td>2</td>\n",
              "      <td>5.1.1.13</td>\n",
              "      <td>2020-05-29 03:05:47</td>\n",
              "      <td>The way Recurring Reminders work is that you n...</td>\n",
              "      <td>2020-05-31 09:23:29</td>\n",
              "      <td>most_relevant</td>\n",
              "      <td>com.anydo</td>\n",
              "    </tr>\n",
              "    <tr>\n",
              "      <th>3</th>\n",
              "      <td>gp:AOqpTOFTFzuwGKy1iy9NWAB-V53ZJusqDp-PumOpJOX...</td>\n",
              "      <td>Jesse Osby</td>\n",
              "      <td>https://lh3.googleusercontent.com/a-/AOh14Gh5M...</td>\n",
              "      <td>App is getting worse instead of better. Latest...</td>\n",
              "      <td>1</td>\n",
              "      <td>0</td>\n",
              "      <td>4.19.0.6</td>\n",
              "      <td>2020-06-01 15:58:18</td>\n",
              "      <td>There are several Any.do widget options to cho...</td>\n",
              "      <td>2020-06-02 07:05:14</td>\n",
              "      <td>most_relevant</td>\n",
              "      <td>com.anydo</td>\n",
              "    </tr>\n",
              "    <tr>\n",
              "      <th>4</th>\n",
              "      <td>gp:AOqpTOF3Kb-6IdEeeYLcuUncmzjQdtNguLU5GTshqNY...</td>\n",
              "      <td>A Traveller</td>\n",
              "      <td>https://lh3.googleusercontent.com/-yutN8c-KH6U...</td>\n",
              "      <td>This app is a prime example of building a moun...</td>\n",
              "      <td>1</td>\n",
              "      <td>17</td>\n",
              "      <td>5.0.0.11</td>\n",
              "      <td>2020-05-09 17:20:56</td>\n",
              "      <td>If you're having trouble figuring out how to t...</td>\n",
              "      <td>2020-05-12 08:22:05</td>\n",
              "      <td>most_relevant</td>\n",
              "      <td>com.anydo</td>\n",
              "    </tr>\n",
              "  </tbody>\n",
              "</table>\n",
              "</div>"
            ],
            "text/plain": [
              "                                            reviewId  ...      appId\n",
              "0  gp:AOqpTOF_OBDJpMDUE3xGa8fbyCJDD3mM8z5AGNSIf4q...  ...  com.anydo\n",
              "1  gp:AOqpTOHuZQkkDNAmNUpwfdnQSjZtvvwFoWVyPf5rWPk...  ...  com.anydo\n",
              "2  gp:AOqpTOENSETZVCAj3t-TMO9ZBmlqOLB9ujgQYdHbnj9...  ...  com.anydo\n",
              "3  gp:AOqpTOFTFzuwGKy1iy9NWAB-V53ZJusqDp-PumOpJOX...  ...  com.anydo\n",
              "4  gp:AOqpTOF3Kb-6IdEeeYLcuUncmzjQdtNguLU5GTshqNY...  ...  com.anydo\n",
              "\n",
              "[5 rows x 12 columns]"
            ]
          },
          "metadata": {
            "tags": []
          },
          "execution_count": 11
        }
      ]
    },
    {
      "cell_type": "markdown",
      "metadata": {
        "id": "MeGcq3rehf3u",
        "colab_type": "text"
      },
      "source": [
        "Each row represents information regarding a single review. So, there are a total of somewhere around 16k scraped reviews. The nature/ sentiment of reviews contained in the column 'content' are derieved from the 'score' given by the reviewer. This score is basically called star rating which ranges from 1 to 5, where 1 being very bad and 5 being excellent. For the purpose of this project we will consider the rating of 1 & 2 as negative, 3 as neutral and 4 & 5 as positive. Below we will convert the score to negative (represented by 0), neutral (represented by 1), and positive (represented by 2)."
      ]
    },
    {
      "cell_type": "code",
      "metadata": {
        "id": "A1Usu6ynLqaF",
        "colab_type": "code",
        "colab": {}
      },
      "source": [
        "# Convert ratings to sentiments\n",
        "def rating_to_sentiment(rating):\n",
        "  rating = int(rating)\n",
        "  if rating <= 2:\n",
        "    return 0  # negative\n",
        "  elif rating == 3:\n",
        "    return 1  # neutral\n",
        "  else: \n",
        "    return 2  # positive\n",
        "\n",
        "\n",
        "app_reviews_df['sentiment'] = app_reviews_df['score'].apply(rating_to_sentiment)"
      ],
      "execution_count": 0,
      "outputs": []
    },
    {
      "cell_type": "markdown",
      "metadata": {
        "id": "kKGZkK3TjZpe",
        "colab_type": "text"
      },
      "source": [
        "We will save the review dataframe to .csv file for further references. "
      ]
    },
    {
      "cell_type": "code",
      "metadata": {
        "id": "ycXKrMONLqVD",
        "colab_type": "code",
        "colab": {}
      },
      "source": [
        "# Save reviews\n",
        "app_reviews_df.to_csv('/content/reviews.csv', index=None, header=True)"
      ],
      "execution_count": 0,
      "outputs": []
    },
    {
      "cell_type": "code",
      "metadata": {
        "id": "HHbnwCbyLqOH",
        "colab_type": "code",
        "outputId": "f5da90a0-17bd-4809-c931-e52ff0aee9fe",
        "colab": {
          "base_uri": "https://localhost:8080/",
          "height": 34
        }
      },
      "source": [
        "app_reviews_df.shape"
      ],
      "execution_count": 14,
      "outputs": [
        {
          "output_type": "execute_result",
          "data": {
            "text/plain": [
              "(15946, 13)"
            ]
          },
          "metadata": {
            "tags": []
          },
          "execution_count": 14
        }
      ]
    },
    {
      "cell_type": "markdown",
      "metadata": {
        "id": "IsC2gIabmTop",
        "colab_type": "text"
      },
      "source": [
        "# Exploring Data\n",
        "We will take a look at the reviews. For the purpose of exploring we will create a copy of our dataframe."
      ]
    },
    {
      "cell_type": "code",
      "metadata": {
        "id": "Jmng9cBbmY-k",
        "colab_type": "code",
        "outputId": "0c4cc7a8-b2dc-46a9-f072-14cc4a4d9503",
        "colab": {
          "base_uri": "https://localhost:8080/",
          "height": 574
        }
      },
      "source": [
        "df = app_reviews_df.copy()\n",
        "print(df.shape)\n",
        "df.head()"
      ],
      "execution_count": 15,
      "outputs": [
        {
          "output_type": "stream",
          "text": [
            "(15946, 13)\n"
          ],
          "name": "stdout"
        },
        {
          "output_type": "execute_result",
          "data": {
            "text/html": [
              "<div>\n",
              "<style scoped>\n",
              "    .dataframe tbody tr th:only-of-type {\n",
              "        vertical-align: middle;\n",
              "    }\n",
              "\n",
              "    .dataframe tbody tr th {\n",
              "        vertical-align: top;\n",
              "    }\n",
              "\n",
              "    .dataframe thead th {\n",
              "        text-align: right;\n",
              "    }\n",
              "</style>\n",
              "<table border=\"1\" class=\"dataframe\">\n",
              "  <thead>\n",
              "    <tr style=\"text-align: right;\">\n",
              "      <th></th>\n",
              "      <th>reviewId</th>\n",
              "      <th>userName</th>\n",
              "      <th>userImage</th>\n",
              "      <th>content</th>\n",
              "      <th>score</th>\n",
              "      <th>thumbsUpCount</th>\n",
              "      <th>reviewCreatedVersion</th>\n",
              "      <th>at</th>\n",
              "      <th>replyContent</th>\n",
              "      <th>repliedAt</th>\n",
              "      <th>sortOrder</th>\n",
              "      <th>appId</th>\n",
              "      <th>sentiment</th>\n",
              "    </tr>\n",
              "  </thead>\n",
              "  <tbody>\n",
              "    <tr>\n",
              "      <th>0</th>\n",
              "      <td>gp:AOqpTOF_OBDJpMDUE3xGa8fbyCJDD3mM8z5AGNSIf4q...</td>\n",
              "      <td>Dominic Flanagan</td>\n",
              "      <td>https://lh3.googleusercontent.com/a-/AOh14Gjk1...</td>\n",
              "      <td>Pretty basic for the price. Lacks customisatio...</td>\n",
              "      <td>1</td>\n",
              "      <td>2</td>\n",
              "      <td>5.1.1.13</td>\n",
              "      <td>2020-05-28 16:23:37</td>\n",
              "      <td>Be advised that Any.do is a minimalistic task ...</td>\n",
              "      <td>2020-05-31 09:01:09</td>\n",
              "      <td>most_relevant</td>\n",
              "      <td>com.anydo</td>\n",
              "      <td>0</td>\n",
              "    </tr>\n",
              "    <tr>\n",
              "      <th>1</th>\n",
              "      <td>gp:AOqpTOHuZQkkDNAmNUpwfdnQSjZtvvwFoWVyPf5rWPk...</td>\n",
              "      <td>G Irish</td>\n",
              "      <td>https://lh3.googleusercontent.com/a-/AOh14Gjwg...</td>\n",
              "      <td>This last update has brought all kinds of bugs...</td>\n",
              "      <td>1</td>\n",
              "      <td>9</td>\n",
              "      <td>5.1.1.13</td>\n",
              "      <td>2020-05-23 01:40:48</td>\n",
              "      <td>Sorry about that! We are unaware of any issues...</td>\n",
              "      <td>2020-05-24 08:04:09</td>\n",
              "      <td>most_relevant</td>\n",
              "      <td>com.anydo</td>\n",
              "      <td>0</td>\n",
              "    </tr>\n",
              "    <tr>\n",
              "      <th>2</th>\n",
              "      <td>gp:AOqpTOENSETZVCAj3t-TMO9ZBmlqOLB9ujgQYdHbnj9...</td>\n",
              "      <td>Mohit Singla</td>\n",
              "      <td>https://lh3.googleusercontent.com/a-/AOh14GiJ0...</td>\n",
              "      <td>I have set daily reminders. It doesn't show th...</td>\n",
              "      <td>1</td>\n",
              "      <td>2</td>\n",
              "      <td>5.1.1.13</td>\n",
              "      <td>2020-05-29 03:05:47</td>\n",
              "      <td>The way Recurring Reminders work is that you n...</td>\n",
              "      <td>2020-05-31 09:23:29</td>\n",
              "      <td>most_relevant</td>\n",
              "      <td>com.anydo</td>\n",
              "      <td>0</td>\n",
              "    </tr>\n",
              "    <tr>\n",
              "      <th>3</th>\n",
              "      <td>gp:AOqpTOFTFzuwGKy1iy9NWAB-V53ZJusqDp-PumOpJOX...</td>\n",
              "      <td>Jesse Osby</td>\n",
              "      <td>https://lh3.googleusercontent.com/a-/AOh14Gh5M...</td>\n",
              "      <td>App is getting worse instead of better. Latest...</td>\n",
              "      <td>1</td>\n",
              "      <td>0</td>\n",
              "      <td>4.19.0.6</td>\n",
              "      <td>2020-06-01 15:58:18</td>\n",
              "      <td>There are several Any.do widget options to cho...</td>\n",
              "      <td>2020-06-02 07:05:14</td>\n",
              "      <td>most_relevant</td>\n",
              "      <td>com.anydo</td>\n",
              "      <td>0</td>\n",
              "    </tr>\n",
              "    <tr>\n",
              "      <th>4</th>\n",
              "      <td>gp:AOqpTOF3Kb-6IdEeeYLcuUncmzjQdtNguLU5GTshqNY...</td>\n",
              "      <td>A Traveller</td>\n",
              "      <td>https://lh3.googleusercontent.com/-yutN8c-KH6U...</td>\n",
              "      <td>This app is a prime example of building a moun...</td>\n",
              "      <td>1</td>\n",
              "      <td>17</td>\n",
              "      <td>5.0.0.11</td>\n",
              "      <td>2020-05-09 17:20:56</td>\n",
              "      <td>If you're having trouble figuring out how to t...</td>\n",
              "      <td>2020-05-12 08:22:05</td>\n",
              "      <td>most_relevant</td>\n",
              "      <td>com.anydo</td>\n",
              "      <td>0</td>\n",
              "    </tr>\n",
              "  </tbody>\n",
              "</table>\n",
              "</div>"
            ],
            "text/plain": [
              "                                            reviewId  ... sentiment\n",
              "0  gp:AOqpTOF_OBDJpMDUE3xGa8fbyCJDD3mM8z5AGNSIf4q...  ...         0\n",
              "1  gp:AOqpTOHuZQkkDNAmNUpwfdnQSjZtvvwFoWVyPf5rWPk...  ...         0\n",
              "2  gp:AOqpTOENSETZVCAj3t-TMO9ZBmlqOLB9ujgQYdHbnj9...  ...         0\n",
              "3  gp:AOqpTOFTFzuwGKy1iy9NWAB-V53ZJusqDp-PumOpJOX...  ...         0\n",
              "4  gp:AOqpTOF3Kb-6IdEeeYLcuUncmzjQdtNguLU5GTshqNY...  ...         0\n",
              "\n",
              "[5 rows x 13 columns]"
            ]
          },
          "metadata": {
            "tags": []
          },
          "execution_count": 15
        }
      ]
    },
    {
      "cell_type": "code",
      "metadata": {
        "id": "AnCyGhNXmY7w",
        "colab_type": "code",
        "colab": {}
      },
      "source": [
        "df.drop('reviewId', axis=1, inplace=True)"
      ],
      "execution_count": 0,
      "outputs": []
    },
    {
      "cell_type": "markdown",
      "metadata": {
        "id": "DexGqiSfpJrk",
        "colab_type": "text"
      },
      "source": [
        "Visualizing review count for each Star Score (as originally scrapped)."
      ]
    },
    {
      "cell_type": "code",
      "metadata": {
        "id": "XJ_eHh-GmY3E",
        "colab_type": "code",
        "outputId": "e10c831a-032b-4f39-d503-d13994432fa5",
        "colab": {
          "base_uri": "https://localhost:8080/",
          "height": 482
        }
      },
      "source": [
        "# Visualizing reviews count per star rating\n",
        "import seaborn as sns; sns.set()\n",
        "plt.rcParams['figure.figsize'] = 10,6\n",
        "sns.countplot(df.score)\n",
        "plt.title('Reviews per Score(Star Rating)')"
      ],
      "execution_count": 17,
      "outputs": [
        {
          "output_type": "stream",
          "text": [
            "/usr/local/lib/python3.6/dist-packages/statsmodels/tools/_testing.py:19: FutureWarning: pandas.util.testing is deprecated. Use the functions in the public API at pandas.testing instead.\n",
            "  import pandas.util.testing as tm\n"
          ],
          "name": "stderr"
        },
        {
          "output_type": "execute_result",
          "data": {
            "text/plain": [
              "Text(0.5, 1.0, 'Reviews per Score(Star Rating)')"
            ]
          },
          "metadata": {
            "tags": []
          },
          "execution_count": 17
        },
        {
          "output_type": "display_data",
          "data": {
            "image/png": "[encoded data removed]",
            "text/plain": [
              "<Figure size 720x432 with 1 Axes>"
            ]
          },
          "metadata": {
            "tags": []
          }
        }
      ]
    },
    {
      "cell_type": "markdown",
      "metadata": {
        "id": "RqmAzt8Tqge7",
        "colab_type": "text"
      },
      "source": [
        "Visualizing review count for each Sentiment (converted based on star scores). We had kept star score of 3 for neutral and combined the star scores of 1&2 for negative, and 4&5 for positive."
      ]
    },
    {
      "cell_type": "code",
      "metadata": {
        "id": "xcTmRsEamYyM",
        "colab_type": "code",
        "outputId": "83b344e5-b3b9-4553-e593-34d63e629edc",
        "colab": {
          "base_uri": "https://localhost:8080/",
          "height": 427
        }
      },
      "source": [
        "# Visualizing reviews count per sentiment\n",
        "ax = sns.countplot(df.sentiment)\n",
        "plt.title('Reviews per Sentiment')\n",
        "ax.set_xticklabels(['negative', 'neutral', 'positive'])"
      ],
      "execution_count": 18,
      "outputs": [
        {
          "output_type": "execute_result",
          "data": {
            "text/plain": [
              "[Text(0, 0, 'negative'), Text(0, 0, 'neutral'), Text(0, 0, 'positive')]"
            ]
          },
          "metadata": {
            "tags": []
          },
          "execution_count": 18
        },
        {
          "output_type": "display_data",
          "data": {
            "image/png": "[encoded data removed]",
            "text/plain": [
              "<Figure size 720x432 with 1 Axes>"
            ]
          },
          "metadata": {
            "tags": []
          }
        }
      ]
    },
    {
      "cell_type": "markdown",
      "metadata": {
        "id": "odA64HENqZlf",
        "colab_type": "text"
      },
      "source": [
        "Next, we will tokenize the reviews from the 'content' column and take a look at the length of the tokens. Base on this number we will choose our maximum length for the purpose of modeling BERT Sentiment Classifier.\n",
        "\n",
        "We will use BertTokenizer derieved from pretrained BERT Base Cased model from the transformers library to create tokens. "
      ]
    },
    {
      "cell_type": "code",
      "metadata": {
        "id": "Er0V5o9YmYuM",
        "colab_type": "code",
        "colab": {}
      },
      "source": [
        "# Choosing Maximum Sequence Length\n",
        "import transformers\n",
        "tokenizer = transformers.BertTokenizer.from_pretrained('bert-base-cased')\n",
        "\n",
        "token_lens = []\n",
        "for text in df.content:\n",
        "    tokens = tokenizer.encode(text, max_length=512)\n",
        "    token_lens.append(len(tokens))"
      ],
      "execution_count": 0,
      "outputs": []
    },
    {
      "cell_type": "code",
      "metadata": {
        "id": "-kdb-2JCmYo2",
        "colab_type": "code",
        "outputId": "1afcd1f3-01ab-4904-a39f-dd96d04062ba",
        "colab": {
          "base_uri": "https://localhost:8080/",
          "height": 394
        }
      },
      "source": [
        "sns.distplot(token_lens)\n",
        "plt.xlim(0, 200)"
      ],
      "execution_count": 20,
      "outputs": [
        {
          "output_type": "execute_result",
          "data": {
            "text/plain": [
              "(0.0, 200.0)"
            ]
          },
          "metadata": {
            "tags": []
          },
          "execution_count": 20
        },
        {
          "output_type": "display_data",
          "data": {
            "image/png": "[encoded data removed]",
            "text/plain": [
              "<Figure size 720x432 with 1 Axes>"
            ]
          },
          "metadata": {
            "tags": []
          }
        }
      ]
    },
    {
      "cell_type": "markdown",
      "metadata": {
        "id": "-2lhSOmjsBzS",
        "colab_type": "text"
      },
      "source": [
        "Basen on the above countplot, maximum length of reviews will be capped at 160 tokens each."
      ]
    },
    {
      "cell_type": "markdown",
      "metadata": {
        "id": "zDxJlHIjpvS9",
        "colab_type": "text"
      },
      "source": [
        "# Model Configuration"
      ]
    },
    {
      "cell_type": "markdown",
      "metadata": {
        "id": "Bjf259BGkrsX",
        "colab_type": "text"
      },
      "source": [
        "Set some paramaters for the project. Import the pytorch interface for BERT by Hugging Face. (This library contains interfaces for other pretrained language models like OpenAI’s GPT and GPT-2.). Transformers provides a number of classes for applying BERT to different tasks. In this project, Pre-trained Bert Base Cased model is used."
      ]
    },
    {
      "cell_type": "code",
      "metadata": {
        "id": "7ugECUrxp5hG",
        "colab_type": "code",
        "colab": {}
      },
      "source": [
        "import transformers\n",
        "\n",
        "MAX_LEN = 150\n",
        "TRAIN_BATCH_SIZE = 32\n",
        "VAL_BATCH_SIZE = 32\n",
        "EPOCHS = 10\n",
        "RANDOM_SEED=42\n",
        "CLASS_NAMES = ['negative', 'neutral', 'positive']\n",
        "\n",
        "\n",
        "PRE_TRAINED_MODEL_NAME = 'bert-base-cased'\n",
        "#MODEL_PATH = 'model.bin'\n",
        "TRAINING_FILE = '/content/reviews.csv'\n",
        "\n",
        "TOKENIZER = transformers.BertTokenizer.from_pretrained(PRE_TRAINED_MODEL_NAME)"
      ],
      "execution_count": 0,
      "outputs": []
    },
    {
      "cell_type": "markdown",
      "metadata": {
        "id": "-WKM914XpvXd",
        "colab_type": "text"
      },
      "source": [
        "# Dataset\n",
        "Creating class for datasets."
      ]
    },
    {
      "cell_type": "code",
      "metadata": {
        "id": "uRsom54Wp6I3",
        "colab_type": "code",
        "colab": {}
      },
      "source": [
        "import torch\n",
        "\n",
        "class BERTDataset:\n",
        "    \"\"\" Return input_ids, attention_masks, token_type_ids, targets \"\"\"\n",
        "\n",
        "    def __init__(self, review, target):\n",
        "        self.review = review\n",
        "        self.target = target\n",
        "        self.tokenizer = TOKENIZER\n",
        "        self.max_len = MAX_LEN\n",
        "\n",
        "    def __len__(self):\n",
        "        \"\"\" This function returns the number of samples in text \"\"\"\n",
        "        return len(self.review)\n",
        " \n",
        "    def __getitem__(self, item):\n",
        "        \"\"\" This function returns the token_ids, attention_mask, and token_type_ids for each index in text \"\"\"\n",
        "        review = str(self.review[item])\n",
        "        review = \" \".join(review.split())\n",
        "        inputs = self.tokenizer.encode_plus(\n",
        "            review,\n",
        "            None,\n",
        "            add_special_tokens=True,\n",
        "            max_length=self.max_len,\n",
        "            pad_to_max_length=True,\n",
        "            return_attention_mask=True,\n",
        "            return_token_type_ids=False,\n",
        "            return_tensors='pt'            \n",
        "        )\n",
        "        \n",
        "        ids = inputs[\"input_ids\"].flatten()\n",
        "        mask = inputs[\"attention_mask\"].flatten()\n",
        "\n",
        "        return {\n",
        "            \"ids\" : ids,\n",
        "            \"mask\" : mask,\n",
        "            \"targets\": torch.tensor(self.target[item], dtype=torch.long),           \n",
        "        }"
      ],
      "execution_count": 0,
      "outputs": []
    },
    {
      "cell_type": "markdown",
      "metadata": {
        "id": "yeBXnnC5pvmt",
        "colab_type": "text"
      },
      "source": [
        "# Model\n",
        "Setting up Model Architecture"
      ]
    },
    {
      "cell_type": "code",
      "metadata": {
        "id": "lMMhLQp5qTLm",
        "colab_type": "code",
        "colab": {}
      },
      "source": [
        "import transformers\n",
        "import torch.nn as nn\n",
        "\n",
        "class BERTBaseCased(nn.Module):\n",
        "    \"\"\" Returns model\"\"\"\n",
        "    def __init__(self):\n",
        "        \"\"\" Define Model Architecture \"\"\"\n",
        "        super(BERTBaseCased, self).__init__()\n",
        "        self.bert = transformers.BertModel.from_pretrained(PRE_TRAINED_MODEL_NAME)\n",
        "        self.drop = nn.Dropout(0.3)\n",
        "        self.linear = nn.Linear(768, 3)\n",
        "        \n",
        "    def forward(self, ids, mask):\n",
        "        \"\"\" Implements the forward pass \"\"\"\n",
        "        last_hidden_state, pooler_output = self.bert(\n",
        "            ids, \n",
        "            attention_mask=mask, \n",
        "        )\n",
        "        output = self.drop(pooler_output)\n",
        "        output = self.linear(output)\n",
        "        return output"
      ],
      "execution_count": 0,
      "outputs": []
    },
    {
      "cell_type": "markdown",
      "metadata": {
        "id": "HG_DeRCWpvqZ",
        "colab_type": "text"
      },
      "source": [
        "# Engine\n",
        "Setting up model helper functions."
      ]
    },
    {
      "cell_type": "code",
      "metadata": {
        "id": "BVxzSi1cqnBk",
        "colab_type": "code",
        "colab": {}
      },
      "source": [
        "import torch\n",
        "import torch.nn as nn\n",
        "import numpy as np\n",
        "from tqdm import tqdm\n",
        "\n",
        "\n",
        "def loss_fn(outputs, targets):\n",
        "  return nn.CrossEntropyLoss()(outputs, targets).to(device)\n",
        "\n",
        "def train_fn(data_loader, model, optimizer, device, scheduler, n_exp):\n",
        "    model.train()\n",
        "\n",
        "    correct_predictions = 0\n",
        "    losses = []\n",
        "\n",
        "    for bi, d in tqdm(enumerate(data_loader), total=len(data_loader)):\n",
        "        ids = d[\"ids\"].to(device)\n",
        "        mask = d[\"mask\"].to(device)\n",
        "        targets = d[\"targets\"].to(device)\n",
        "\n",
        "        #ids = ids.to(device, dtype=torch.long)\n",
        "        #mask = mask.to(device, dtype=torch.long)\n",
        "        #targets = targets.to(device, dtype=torch.long)\n",
        "\n",
        "        optimizer.zero_grad()\n",
        "        outputs = model(ids=ids, mask=mask)\n",
        " \n",
        "        _, indices = torch.max(outputs, dim=1)  \n",
        "\n",
        "        loss = loss_fn(outputs, targets)\n",
        "        correct_predictions += torch.sum(indices == targets)\n",
        "        losses.append(loss.item())\n",
        "\n",
        "        loss.backward()\n",
        "        nn.utils.clip_grad_norm_(model.parameters(), max_norm=1.0)  #??????????\n",
        "        optimizer.step()\n",
        "        scheduler.step()\n",
        "\n",
        "    return correct_predictions.double() / n_exp, np.mean(losses)\n",
        "\n",
        "def eval_fn(data_loader, model, device, n_exp):\n",
        "    model.eval()\n",
        "    \n",
        "    losses = []\n",
        "    correct_predictions = 0\n",
        "   \n",
        "    with torch.no_grad():    \n",
        "        for bi, d in tqdm(enumerate(data_loader), total=len(data_loader)):\n",
        "            ids = d[\"ids\"].to(device)\n",
        "            mask = d[\"mask\"].to(device)\n",
        "            targets = d[\"targets\"].to(device)\n",
        "\n",
        "            #ids = ids.to(device, dtype=torch.long)\n",
        "            #mask = mask.to(device, dtype=torch.long)\n",
        "            #targets = targets.to(device, dtype=torch.long)\n",
        "\n",
        "            outputs = model(ids=ids, mask=mask) \n",
        "            _, indices = torch.max(outputs, dim=1)  \n",
        "\n",
        "            loss = loss_fn(outputs, targets)\n",
        "            losses.append(loss.item())\n",
        "            \n",
        "            correct_predictions += torch.sum(indices == targets)\n",
        "            \n",
        "    return correct_predictions.double() / n_exp, np.mean(losses)"
      ],
      "execution_count": 0,
      "outputs": []
    },
    {
      "cell_type": "markdown",
      "metadata": {
        "id": "nsJRGbqhpvuV",
        "colab_type": "text"
      },
      "source": [
        "# Train\n",
        "Train the model"
      ]
    },
    {
      "cell_type": "code",
      "metadata": {
        "id": "1BCr7-Czqrc6",
        "colab_type": "code",
        "outputId": "491c1b12-59b3-4b76-cc25-70fbffd72926",
        "colab": {
          "base_uri": "https://localhost:8080/",
          "height": 1000
        }
      },
      "source": [
        "import torch\n",
        "import pandas as pd\n",
        "from sklearn.model_selection import train_test_split\n",
        "from sklearn import metrics\n",
        "from collections import defaultdict \n",
        "from transformers import AdamW\n",
        "from transformers import get_linear_schedule_with_warmup\n",
        "\n",
        "# Read in CSV\n",
        "df = pd.read_csv(TRAINING_FILE)\n",
        "\n",
        "# Split into Validation\n",
        "df_train, df_val = train_test_split(df, test_size=0.1, stratify=df.sentiment.values, random_state=RANDOM_SEED)\n",
        "df_train = df_train.reset_index(drop=True)\n",
        "df_val = df_val.reset_index(drop=True)\n",
        "print(df_train.shape, df_val.shape)\n",
        "\n",
        "# Create Dataset required for BERT Model\n",
        "train_dataset = BERTDataset(df_train.content.values, df_train.sentiment.values)\n",
        "val_dataset = BERTDataset(df_val.content.values, df_val.sentiment.values)\n",
        "\n",
        "train_data_loader = torch.utils.data.DataLoader(train_dataset, batch_size=TRAIN_BATCH_SIZE, num_workers=4)\n",
        "val_data_loader = torch.utils.data.DataLoader(val_dataset, batch_size=VAL_BATCH_SIZE, num_workers=1)\n",
        "\n",
        "# Define Model and Hyperparameters\n",
        "device = torch.device('cuda')\n",
        "model = BERTBaseCased()\n",
        "model.to(device)\n",
        "\n",
        "num_training_steps = len(train_data_loader) * EPOCHS\n",
        "optimizer = AdamW(model.parameters(), lr=2e-5, correct_bias=False)\n",
        "scheduler = get_linear_schedule_with_warmup(optimizer, num_training_steps=num_training_steps, num_warmup_steps=0)\n",
        "\n",
        "# Train the Model, Print Aaccurcay, Save Model\n",
        "n_train_exp = len(df_train)\n",
        "n_val_exp = len(df_val)\n",
        "\n",
        "history = defaultdict(list)\n",
        "best_accuracy = 0\n",
        "\n",
        "for epoch in range(EPOCHS):\n",
        "  print(f'\\n{\"#\" * 10} Epoch: {epoch+1}/{EPOCHS} {\"#\" * 10}\\n')\n",
        "  train_acc, train_loss = train_fn(train_data_loader, model, optimizer, device, scheduler, n_train_exp)    \n",
        "  val_acc, val_loss = eval_fn(val_data_loader, model, device, n_val_exp)\n",
        "\n",
        "  print(f'\\nTrain Loss: {train_loss:.4f}        Acc: {train_acc:.4f} \\nVal   Loss: {val_loss:.4f}      Val Acc: {val_acc:.4f}')\n",
        "\n",
        "  history['train_acc'].append(train_acc)\n",
        "  history['train_loss'].append(train_loss)\n",
        "  history['val_acc'].append(val_acc)\n",
        "  history['val_loss'].append(val_loss)\n",
        "\n",
        "  if val_acc > best_accuracy:\n",
        "      !rm -rf /content/model*\n",
        "      torch.save(model.state_dict(), f'model_{val_acc:0.2f}.bin')\n",
        "      best_accuracy = val_acc"
      ],
      "execution_count": 25,
      "outputs": [
        {
          "output_type": "stream",
          "text": [
            "(14351, 13) (1595, 13)\n",
            "\n",
            "########## Epoch: 1/10 ##########\n",
            "\n"
          ],
          "name": "stdout"
        },
        {
          "output_type": "stream",
          "text": [
            "100%|██████████| 449/449 [03:40<00:00,  2.04it/s]\n",
            "100%|██████████| 50/50 [00:07<00:00,  6.31it/s]\n"
          ],
          "name": "stderr"
        },
        {
          "output_type": "stream",
          "text": [
            "\n",
            "Train Loss: 0.7390        Acc: 0.6590 \n",
            "Val   Loss: 0.6227      Val Acc: 0.7310\n",
            "\n",
            "########## Epoch: 2/10 ##########\n",
            "\n"
          ],
          "name": "stdout"
        },
        {
          "output_type": "stream",
          "text": [
            "100%|██████████| 449/449 [03:39<00:00,  2.05it/s]\n",
            "100%|██████████| 50/50 [00:07<00:00,  6.32it/s]\n"
          ],
          "name": "stderr"
        },
        {
          "output_type": "stream",
          "text": [
            "\n",
            "Train Loss: 0.4264        Acc: 0.8315 \n",
            "Val   Loss: 0.5272      Val Acc: 0.8100\n",
            "\n",
            "########## Epoch: 3/10 ##########\n",
            "\n"
          ],
          "name": "stdout"
        },
        {
          "output_type": "stream",
          "text": [
            "100%|██████████| 449/449 [03:39<00:00,  2.05it/s]\n",
            "100%|██████████| 50/50 [00:07<00:00,  6.32it/s]\n"
          ],
          "name": "stderr"
        },
        {
          "output_type": "stream",
          "text": [
            "\n",
            "Train Loss: 0.2299        Acc: 0.9191 \n",
            "Val   Loss: 0.5011      Val Acc: 0.8464\n",
            "\n",
            "########## Epoch: 4/10 ##########\n",
            "\n"
          ],
          "name": "stdout"
        },
        {
          "output_type": "stream",
          "text": [
            "100%|██████████| 449/449 [03:39<00:00,  2.04it/s]\n",
            "100%|██████████| 50/50 [00:07<00:00,  6.33it/s]\n"
          ],
          "name": "stderr"
        },
        {
          "output_type": "stream",
          "text": [
            "\n",
            "Train Loss: 0.1367        Acc: 0.9535 \n",
            "Val   Loss: 0.5859      Val Acc: 0.8596\n",
            "\n",
            "########## Epoch: 5/10 ##########\n",
            "\n"
          ],
          "name": "stdout"
        },
        {
          "output_type": "stream",
          "text": [
            "100%|██████████| 449/449 [03:39<00:00,  2.04it/s]\n",
            "100%|██████████| 50/50 [00:07<00:00,  6.33it/s]\n"
          ],
          "name": "stderr"
        },
        {
          "output_type": "stream",
          "text": [
            "\n",
            "Train Loss: 0.1021        Acc: 0.9642 \n",
            "Val   Loss: 0.6878      Val Acc: 0.8602\n",
            "\n",
            "########## Epoch: 6/10 ##########\n",
            "\n"
          ],
          "name": "stdout"
        },
        {
          "output_type": "stream",
          "text": [
            "100%|██████████| 449/449 [03:39<00:00,  2.04it/s]\n",
            "100%|██████████| 50/50 [00:07<00:00,  6.32it/s]\n"
          ],
          "name": "stderr"
        },
        {
          "output_type": "stream",
          "text": [
            "\n",
            "Train Loss: 0.0809        Acc: 0.9737 \n",
            "Val   Loss: 0.7373      Val Acc: 0.8721\n",
            "\n",
            "########## Epoch: 7/10 ##########\n",
            "\n"
          ],
          "name": "stdout"
        },
        {
          "output_type": "stream",
          "text": [
            "100%|██████████| 449/449 [03:39<00:00,  2.04it/s]\n",
            "100%|██████████| 50/50 [00:07<00:00,  6.35it/s]"
          ],
          "name": "stderr"
        },
        {
          "output_type": "stream",
          "text": [
            "\n",
            "Train Loss: 0.0619        Acc: 0.9775 \n",
            "Val   Loss: 0.7774      Val Acc: 0.8721\n",
            "\n",
            "########## Epoch: 8/10 ##########\n",
            "\n"
          ],
          "name": "stdout"
        },
        {
          "output_type": "stream",
          "text": [
            "\n",
            "100%|██████████| 449/449 [03:38<00:00,  2.05it/s]\n",
            "100%|██████████| 50/50 [00:07<00:00,  6.34it/s]\n"
          ],
          "name": "stderr"
        },
        {
          "output_type": "stream",
          "text": [
            "\n",
            "Train Loss: 0.0504        Acc: 0.9810 \n",
            "Val   Loss: 0.7573      Val Acc: 0.8796\n",
            "\n",
            "########## Epoch: 9/10 ##########\n",
            "\n"
          ],
          "name": "stdout"
        },
        {
          "output_type": "stream",
          "text": [
            "100%|██████████| 449/449 [03:38<00:00,  2.05it/s]\n",
            "100%|██████████| 50/50 [00:07<00:00,  6.33it/s]"
          ],
          "name": "stderr"
        },
        {
          "output_type": "stream",
          "text": [
            "\n",
            "Train Loss: 0.0398        Acc: 0.9840 \n",
            "Val   Loss: 0.8297      Val Acc: 0.8721\n",
            "\n",
            "########## Epoch: 10/10 ##########\n",
            "\n"
          ],
          "name": "stdout"
        },
        {
          "output_type": "stream",
          "text": [
            "\n",
            "100%|██████████| 449/449 [03:38<00:00,  2.05it/s]\n",
            "100%|██████████| 50/50 [00:07<00:00,  6.33it/s]"
          ],
          "name": "stderr"
        },
        {
          "output_type": "stream",
          "text": [
            "\n",
            "Train Loss: 0.0358        Acc: 0.9848 \n",
            "Val   Loss: 0.8420      Val Acc: 0.8727\n"
          ],
          "name": "stdout"
        },
        {
          "output_type": "stream",
          "text": [
            "\n"
          ],
          "name": "stderr"
        }
      ]
    },
    {
      "cell_type": "code",
      "metadata": {
        "id": "qm3mGmXMJmgu",
        "colab_type": "code",
        "outputId": "4eda9a93-4bcf-42b0-c92f-20c30b6f32eb",
        "colab": {
          "base_uri": "https://localhost:8080/",
          "height": 410
        }
      },
      "source": [
        "# Plot Accuracy\n",
        "plt.plot(history['train_acc'], label='train acc')\n",
        "plt.plot(history['val_acc'], label='validation acc')\n",
        "\n",
        "plt.title('Training history')\n",
        "plt.ylabel('Accuracy')\n",
        "plt.xlabel('Epoch')\n",
        "plt.legend()\n",
        "plt.ylim([0,1]);"
      ],
      "execution_count": 26,
      "outputs": [
        {
          "output_type": "display_data",
          "data": {
            "image/png": "[encoded data removed]",
            "text/plain": [
              "<Figure size 720x432 with 1 Axes>"
            ]
          },
          "metadata": {
            "tags": []
          }
        }
      ]
    },
    {
      "cell_type": "code",
      "metadata": {
        "id": "ZtUVuFVv5Rpl",
        "colab_type": "code",
        "outputId": "f65e6e63-98b7-43b2-ba64-5f9009f3403c",
        "colab": {
          "base_uri": "https://localhost:8080/",
          "height": 427
        }
      },
      "source": [
        "# Plot Loss\n",
        "plt.plot(history['train_loss'], label='train loss')\n",
        "plt.plot(history['val_loss'], label='validation loss')\n",
        "\n",
        "plt.title('Training history')\n",
        "plt.ylabel('Loss')\n",
        "plt.xlabel('Epoch')\n",
        "plt.legend()\n",
        "#plt.ylim([]);"
      ],
      "execution_count": 27,
      "outputs": [
        {
          "output_type": "execute_result",
          "data": {
            "text/plain": [
              "<matplotlib.legend.Legend at 0x7f5969ff8eb8>"
            ]
          },
          "metadata": {
            "tags": []
          },
          "execution_count": 27
        },
        {
          "output_type": "display_data",
          "data": {
            "image/png": "[encoded data removed]",
            "text/plain": [
              "<Figure size 720x432 with 1 Axes>"
            ]
          },
          "metadata": {
            "tags": []
          }
        }
      ]
    },
    {
      "cell_type": "code",
      "metadata": {
        "id": "uv7Qv3XcKv8C",
        "colab_type": "code",
        "outputId": "269bf838-51b1-4981-cf69-ca79a7748c4f",
        "colab": {
          "base_uri": "https://localhost:8080/",
          "height": 363
        }
      },
      "source": [
        "pd.DataFrame(history)"
      ],
      "execution_count": 28,
      "outputs": [
        {
          "output_type": "execute_result",
          "data": {
            "text/html": [
              "<div>\n",
              "<style scoped>\n",
              "    .dataframe tbody tr th:only-of-type {\n",
              "        vertical-align: middle;\n",
              "    }\n",
              "\n",
              "    .dataframe tbody tr th {\n",
              "        vertical-align: top;\n",
              "    }\n",
              "\n",
              "    .dataframe thead th {\n",
              "        text-align: right;\n",
              "    }\n",
              "</style>\n",
              "<table border=\"1\" class=\"dataframe\">\n",
              "  <thead>\n",
              "    <tr style=\"text-align: right;\">\n",
              "      <th></th>\n",
              "      <th>train_acc</th>\n",
              "      <th>train_loss</th>\n",
              "      <th>val_acc</th>\n",
              "      <th>val_loss</th>\n",
              "    </tr>\n",
              "  </thead>\n",
              "  <tbody>\n",
              "    <tr>\n",
              "      <th>0</th>\n",
              "      <td>tensor(0.6590, device='cuda:0', dtype=torch.fl...</td>\n",
              "      <td>0.738994</td>\n",
              "      <td>tensor(0.7310, device='cuda:0', dtype=torch.fl...</td>\n",
              "      <td>0.622688</td>\n",
              "    </tr>\n",
              "    <tr>\n",
              "      <th>1</th>\n",
              "      <td>tensor(0.8315, device='cuda:0', dtype=torch.fl...</td>\n",
              "      <td>0.426376</td>\n",
              "      <td>tensor(0.8100, device='cuda:0', dtype=torch.fl...</td>\n",
              "      <td>0.527241</td>\n",
              "    </tr>\n",
              "    <tr>\n",
              "      <th>2</th>\n",
              "      <td>tensor(0.9191, device='cuda:0', dtype=torch.fl...</td>\n",
              "      <td>0.229865</td>\n",
              "      <td>tensor(0.8464, device='cuda:0', dtype=torch.fl...</td>\n",
              "      <td>0.501144</td>\n",
              "    </tr>\n",
              "    <tr>\n",
              "      <th>3</th>\n",
              "      <td>tensor(0.9535, device='cuda:0', dtype=torch.fl...</td>\n",
              "      <td>0.136731</td>\n",
              "      <td>tensor(0.8596, device='cuda:0', dtype=torch.fl...</td>\n",
              "      <td>0.585891</td>\n",
              "    </tr>\n",
              "    <tr>\n",
              "      <th>4</th>\n",
              "      <td>tensor(0.9642, device='cuda:0', dtype=torch.fl...</td>\n",
              "      <td>0.102142</td>\n",
              "      <td>tensor(0.8602, device='cuda:0', dtype=torch.fl...</td>\n",
              "      <td>0.687772</td>\n",
              "    </tr>\n",
              "    <tr>\n",
              "      <th>5</th>\n",
              "      <td>tensor(0.9737, device='cuda:0', dtype=torch.fl...</td>\n",
              "      <td>0.080949</td>\n",
              "      <td>tensor(0.8721, device='cuda:0', dtype=torch.fl...</td>\n",
              "      <td>0.737277</td>\n",
              "    </tr>\n",
              "    <tr>\n",
              "      <th>6</th>\n",
              "      <td>tensor(0.9775, device='cuda:0', dtype=torch.fl...</td>\n",
              "      <td>0.061929</td>\n",
              "      <td>tensor(0.8721, device='cuda:0', dtype=torch.fl...</td>\n",
              "      <td>0.777370</td>\n",
              "    </tr>\n",
              "    <tr>\n",
              "      <th>7</th>\n",
              "      <td>tensor(0.9810, device='cuda:0', dtype=torch.fl...</td>\n",
              "      <td>0.050384</td>\n",
              "      <td>tensor(0.8796, device='cuda:0', dtype=torch.fl...</td>\n",
              "      <td>0.757309</td>\n",
              "    </tr>\n",
              "    <tr>\n",
              "      <th>8</th>\n",
              "      <td>tensor(0.9840, device='cuda:0', dtype=torch.fl...</td>\n",
              "      <td>0.039850</td>\n",
              "      <td>tensor(0.8721, device='cuda:0', dtype=torch.fl...</td>\n",
              "      <td>0.829718</td>\n",
              "    </tr>\n",
              "    <tr>\n",
              "      <th>9</th>\n",
              "      <td>tensor(0.9848, device='cuda:0', dtype=torch.fl...</td>\n",
              "      <td>0.035845</td>\n",
              "      <td>tensor(0.8727, device='cuda:0', dtype=torch.fl...</td>\n",
              "      <td>0.841998</td>\n",
              "    </tr>\n",
              "  </tbody>\n",
              "</table>\n",
              "</div>"
            ],
            "text/plain": [
              "                                           train_acc  ...  val_loss\n",
              "0  tensor(0.6590, device='cuda:0', dtype=torch.fl...  ...  0.622688\n",
              "1  tensor(0.8315, device='cuda:0', dtype=torch.fl...  ...  0.527241\n",
              "2  tensor(0.9191, device='cuda:0', dtype=torch.fl...  ...  0.501144\n",
              "3  tensor(0.9535, device='cuda:0', dtype=torch.fl...  ...  0.585891\n",
              "4  tensor(0.9642, device='cuda:0', dtype=torch.fl...  ...  0.687772\n",
              "5  tensor(0.9737, device='cuda:0', dtype=torch.fl...  ...  0.737277\n",
              "6  tensor(0.9775, device='cuda:0', dtype=torch.fl...  ...  0.777370\n",
              "7  tensor(0.9810, device='cuda:0', dtype=torch.fl...  ...  0.757309\n",
              "8  tensor(0.9840, device='cuda:0', dtype=torch.fl...  ...  0.829718\n",
              "9  tensor(0.9848, device='cuda:0', dtype=torch.fl...  ...  0.841998\n",
              "\n",
              "[10 rows x 4 columns]"
            ]
          },
          "metadata": {
            "tags": []
          },
          "execution_count": 28
        }
      ]
    },
    {
      "cell_type": "markdown",
      "metadata": {
        "id": "kcJlnMbQU3dN",
        "colab_type": "text"
      },
      "source": [
        "# Predicting on Raw Text"
      ]
    },
    {
      "cell_type": "code",
      "metadata": {
        "id": "kxeAZUQQWOXf",
        "colab_type": "code",
        "colab": {}
      },
      "source": [
        "from torch.nn import functional as F"
      ],
      "execution_count": 0,
      "outputs": []
    },
    {
      "cell_type": "code",
      "metadata": {
        "id": "_GOPhGWqTxV7",
        "colab_type": "code",
        "colab": {}
      },
      "source": [
        "def get_prediction(sentence):\n",
        "  tokenizer = TOKENIZER\n",
        "  max_len = MAX_LEN\n",
        "  sentence = str(sentence)\n",
        "  sentence = \" \".join(sentence.split())\n",
        "  inputs = tokenizer.encode_plus(\n",
        "      sentence,\n",
        "      None,\n",
        "      add_special_tokens=True,\n",
        "      max_length=max_len,\n",
        "      pad_to_max_length=True,\n",
        "      return_attention_mask=True,\n",
        "      return_token_type_ids=False,\n",
        "      return_tensors='pt'            \n",
        "  )\n",
        "\n",
        "  ids = inputs[\"input_ids\"].to(device)\n",
        "  mask = inputs[\"attention_mask\"].to(device)\n",
        "  \n",
        "  model.eval\n",
        "  outputs = model(ids=ids, mask=mask) #, token_type_ids=token_type_ids\n",
        "  _, preds = torch.max(outputs, dim=1)  \n",
        "  probs = F.softmax(outputs, dim=1)\n",
        "\n",
        "  return sentence, CLASS_NAMES[preds], probs"
      ],
      "execution_count": 0,
      "outputs": []
    },
    {
      "cell_type": "code",
      "metadata": {
        "id": "6aDNVe6JdJpb",
        "colab_type": "code",
        "colab": {}
      },
      "source": [
        "sentence = \"This has to be one of the best notepads in the store. It offers much more than basic/simple ones, yet it is not that complex when it becomes cumbersome. I like tabs, intuitive user interface, seamless switching from text to checklist (not many offer this), color coded folders, grid or list view, all together or folder view, check/lock/pin/stick, attachments. All good. Lack of sync with Google calendar does not bother me, it is clearly stated it won't be supported and it has its own basic calendar. Sketching tools could be improved (basic crop/resize, draw over imported image), but it's not a deal breaker for me.Why three stars then? Well, pricing is ridiculous. $5.5 for ONE WIDGET. And another $5.5 for a second widget (and third). And for colored status bar. And for search. And so on. Bundle is too expensive too, at $24. Before developer pastes a response App development is very expensive - I know that. You can ask whatever you think is a fair price. It's just when you look around the store, and see what others offer (both similar notepads, and other completely different apps), then this app seems way overpriced. If the price was $10, I believe much more people would buy it. Regards\""
      ],
      "execution_count": 0,
      "outputs": []
    },
    {
      "cell_type": "code",
      "metadata": {
        "id": "2U3l9ovhhFJ4",
        "colab_type": "code",
        "colab": {
          "base_uri": "https://localhost:8080/",
          "height": 106
        },
        "outputId": "d2dae65a-2fec-4d9a-8695-5123bdaed3ef"
      },
      "source": [
        "device = torch.device(\"cuda:0\" if torch.cuda.is_available() else \"cpu\")\n",
        "print(device)\n",
        "sentence, preds, probs = get_prediction(sentence)\n",
        "\n",
        "print(f'Review text: {sentence}')\n",
        "print(f'Sentiment  : {preds}')\n",
        "print(f'Confidence : {probs}')"
      ],
      "execution_count": 32,
      "outputs": [
        {
          "output_type": "stream",
          "text": [
            "cuda:0\n",
            "Review text: This has to be one of the best notepads in the store. It offers much more than basic/simple ones, yet it is not that complex when it becomes cumbersome. I like tabs, intuitive user interface, seamless switching from text to checklist (not many offer this), color coded folders, grid or list view, all together or folder view, check/lock/pin/stick, attachments. All good. Lack of sync with Google calendar does not bother me, it is clearly stated it won't be supported and it has its own basic calendar. Sketching tools could be improved (basic crop/resize, draw over imported image), but it's not a deal breaker for me.Why three stars then? Well, pricing is ridiculous. $5.5 for ONE WIDGET. And another $5.5 for a second widget (and third). And for colored status bar. And for search. And so on. Bundle is too expensive too, at $24. Before developer pastes a response App development is very expensive - I know that. You can ask whatever you think is a fair price. It's just when you look around the store, and see what others offer (both similar notepads, and other completely different apps), then this app seems way overpriced. If the price was $10, I believe much more people would buy it. Regards\n",
            "Sentiment  : neutral\n",
            "Confidence : tensor([[0.0014, 0.9957, 0.0029]], device='cuda:0', grad_fn=<SoftmaxBackward>)\n"
          ],
          "name": "stdout"
        }
      ]
    },
    {
      "cell_type": "code",
      "metadata": {
        "id": "Ub9Wipn3hE4z",
        "colab_type": "code",
        "colab": {}
      },
      "source": [
        ""
      ],
      "execution_count": 0,
      "outputs": []
    },
    {
      "cell_type": "markdown",
      "metadata": {
        "id": "3FZSLlyzpv2d",
        "colab_type": "text"
      },
      "source": [
        ""
      ]
    }
  ]
}